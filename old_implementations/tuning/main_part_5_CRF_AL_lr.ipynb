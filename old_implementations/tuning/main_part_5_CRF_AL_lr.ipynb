{
 "cells": [
  {
   "cell_type": "code",
   "execution_count": 1,
   "metadata": {},
   "outputs": [],
   "source": [
    "from PGM.DM.dm import *\n",
    "from pathlib import Path"
   ]
  },
  {
   "cell_type": "code",
   "execution_count": 2,
   "metadata": {},
   "outputs": [],
   "source": [
    "DATA_FOLDER = Path('./dataset/')\n",
    "AL = DATA_FOLDER/'AL'\n",
    "AL_train = AL/'train'\n",
    "AL_dev_x = AL/'dev.in'\n",
    "AL_dev_y = AL/'dev.out'\n",
    "AL_out_2 = AL/'dev.p2.out'\n",
    "AL_out_3 = AL/'dev.p3.out'\n",
    "AL_out_4 = AL/'dev.p4.out'\n",
    "AL_crf_1 = AL/'dev.crf1.out'\n",
    "AL_memm_1 = AL/'dev.memm1.out'\n",
    "AL_sp_1 = AL/'dev.sp1.out'\n",
    "\n",
    "EN = DATA_FOLDER/'EN'\n",
    "EN_train = EN/'train'\n",
    "EN_dev_x = EN/'dev.in'\n",
    "EN_dev_y = EN/'dev.out'\n",
    "EN_out_2 = EN/'dev.p2.out'\n",
    "EN_out_3 = EN/'dev.p3.out'\n",
    "EN_out_4 = EN/'dev.p4.out'\n",
    "EN_crf_1 = EN/'dev.crf1.out'\n",
    "EN_memm_1 = EN/'dev.memm1.out'\n",
    "EN_sp_1 = EN/'dev.sp1.out'\n",
    "\n",
    "CN = DATA_FOLDER/'CN'\n",
    "CN_train = CN/'train'\n",
    "CN_dev_x = CN/'dev.in'\n",
    "CN_dev_y = CN/'dev.out'\n",
    "CN_out_2 = CN/'dev.p2.out'\n",
    "CN_out_3 = CN/'dev.p3.out'\n",
    "\n",
    "SG = DATA_FOLDER/'SG'\n",
    "SG_train = SG/'train'\n",
    "SG_dev_x = SG/'dev.in'\n",
    "SG_dev_y = SG/'dev.out'\n",
    "SG_out_2 = SG/'dev.p2.out'\n",
    "SG_out_3 = SG/'dev.p3.out'\n",
    "\n",
    "PARA_FOLDER = DATA_FOLDER/'parameter'\n",
    "AL_para_FOLDER = PARA_FOLDER/'AL'\n",
    "EN_para_FOLDER = PARA_FOLDER/'EN'\n",
    "\n",
    "EVAL_script = './EvalScript/evalResult.py'"
   ]
  },
  {
   "cell_type": "code",
   "execution_count": 3,
   "metadata": {},
   "outputs": [
    {
     "name": "stdout",
     "output_type": "stream",
     "text": [
      " ******** CRF *********\n",
      "* Number of labels: 42\n",
      "* Number of features: 443993\n",
      "* Initialized weight of size: 443993\n",
      " ******** Start Training *********\n",
      "* Squared sigma: 10\n",
      "* Start Gradient Descend\n",
      "   ========================\n",
      "   iter(sit): Negative log-likelihood\n",
      "   ------------------------\n",
      "   Iteration: 0, Negative Log-likelihood: 653901.5620625856\n",
      "   Iteration: 1, Negative Log-likelihood: 71151.57979157224\n",
      "   Iteration: 2, Negative Log-likelihood: 134826.53628937004\n",
      "   Iteration: 3, Negative Log-likelihood: 35996.291548169036\n",
      "   Iteration: 4, Negative Log-likelihood: 50068.4311422095\n",
      "   Iteration: 5, Negative Log-likelihood: 35184.22091465483\n",
      "   Iteration: 6, Negative Log-likelihood: 29531.13816272047\n",
      "   Iteration: 7, Negative Log-likelihood: 25449.639322340125\n",
      "   Iteration: 8, Negative Log-likelihood: 20163.900435345706\n",
      "   Iteration: 9, Negative Log-likelihood: 19568.620540475848\n",
      "   Iteration: 10, Negative Log-likelihood: 15701.300994498764\n",
      "   Iteration: 11, Negative Log-likelihood: 16576.333405049903\n",
      "   Iteration: 12, Negative Log-likelihood: 12535.321980231818\n",
      "   Iteration: 13, Negative Log-likelihood: 13840.393040802945\n",
      "   Iteration: 14, Negative Log-likelihood: 10832.915703441435\n",
      "   Iteration: 15, Negative Log-likelihood: 12608.384322554397\n",
      "   Iteration: 16, Negative Log-likelihood: 9416.699018656944\n",
      "   Iteration: 17, Negative Log-likelihood: 11230.968871624227\n",
      "   Iteration: 18, Negative Log-likelihood: 8664.16036767125\n",
      "   Iteration: 19, Negative Log-likelihood: 10511.881614018104\n",
      "   Iteration: 20, Negative Log-likelihood: 8005.2145889305175\n",
      "   Iteration: 21, Negative Log-likelihood: 9506.173401452215\n",
      "   Iteration: 22, Negative Log-likelihood: 7872.03070211952\n",
      "   Iteration: 23, Negative Log-likelihood: 9151.001369691996\n",
      "   Iteration: 24, Negative Log-likelihood: 7243.463836711802\n",
      "   Iteration: 25, Negative Log-likelihood: 8598.013450025532\n",
      "   Iteration: 26, Negative Log-likelihood: 6944.612021553246\n",
      "   Iteration: 27, Negative Log-likelihood: 8285.050899480455\n",
      "   Iteration: 28, Negative Log-likelihood: 6617.5511447351055\n",
      "   Iteration: 29, Negative Log-likelihood: 7917.695073969524\n",
      "   ========================\n",
      "   (iter: iteration, sit: sub iteration)\n",
      "* Likelihood: 7917.695073969524\n",
      " ******** Finished Training *********\n",
      "* Trained CRF Model has been saved at \"/home/pengfei/sutd-machine-learning-project/dataset/parameter/AL/CRF_2\"\n",
      "* Elapsed time: 336.0 mins\n"
     ]
    }
   ],
   "source": [
    "AL_para_CRF_2=AL_para_FOLDER/'CRF_2'\n",
    "datafile = AL_train\n",
    "modelfile = AL_para_CRF_2\n",
    "regularization = 10\n",
    "epoch = 30\n",
    "crf = DM.get_CRF(datafile, modelfile, regularization)\n",
    "crf.load_data()\n",
    "crf.train(epoch,lr=0.1)"
   ]
  },
  {
   "cell_type": "code",
   "execution_count": 6,
   "metadata": {},
   "outputs": [
    {
     "name": "stdout",
     "output_type": "stream",
     "text": [
      " ******** CRF *********\n",
      "CRF model loaded\n",
      "* Test output has been saved at \"/home/pengfei/sutd-machine-learning-project/dataset/AL/dev.crf2.out\"\n",
      "\n",
      "#Entity in gold data: 8408\n",
      "#Entity in prediction: 8456\n",
      "\n",
      "#Correct Entity : 7708\n",
      "Entity  precision: 0.9115\n",
      "Entity  recall: 0.9167\n",
      "Entity  F: 0.9141\n",
      "\n",
      "#Correct Sentiment : 7001\n",
      "Sentiment  precision: 0.8279\n",
      "Sentiment  recall: 0.8327\n",
      "Sentiment  F: 0.8303\n"
     ]
    }
   ],
   "source": [
    "AL_crf_2 = AL/'dev.crf2.out'\n",
    "crf = DM.get_CRF(datafile, modelfile, regularization)\n",
    "crf.load_model(modelfile)\n",
    "crf.test(AL_dev_y, AL_crf_2)\n",
    "! python3 {EVAL_script} {AL_dev_y} {AL_crf_2}"
   ]
  },
  {
   "cell_type": "markdown",
   "metadata": {},
   "source": [
    "## Continuation"
   ]
  },
  {
   "cell_type": "code",
   "execution_count": 3,
   "metadata": {},
   "outputs": [
    {
     "name": "stdout",
     "output_type": "stream",
     "text": [
      " ******** CRF *********\n",
      "* Number of labels: 42\n",
      "* Number of features: 443993\n",
      "* Initialized weight of size: 443993\n",
      " ******** Start Training *********\n",
      "* Squared sigma: 10\n",
      "* Start Gradient Descend\n",
      "   ========================\n",
      "   iter(sit): Negative log-likelihood\n",
      "   ------------------------\n",
      "   Iteration: 1, Negative Log-likelihood: 653901.5620625856\n",
      "   Iteration: 2, Negative Log-likelihood: 586208.5264663128\n",
      "   Iteration: 3, Negative Log-likelihood: 531709.1069751803\n",
      "   Iteration: 4, Negative Log-likelihood: 485141.3582644011\n",
      "   Iteration: 5, Negative Log-likelihood: 444048.770550203\n",
      "   ========================\n",
      "   (iter: iteration, sit: sub iteration)\n",
      "* Likelihood: 444048.770550203\n",
      " ******** Finished Training *********\n",
      "* Trained CRF Model has been saved at \"/home/pengfei/sutd-machine-learning-project/dataset/parameter/AL/CRF_2\"\n",
      "* Elapsed time: 55.0 mins\n"
     ]
    }
   ],
   "source": [
    "AL_para_CRF_2=AL_para_FOLDER/'CRF_2'\n",
    "datafile = AL_train\n",
    "modelfile = AL_para_CRF_2\n",
    "regularization = 10\n",
    "epoch = 5\n",
    "crf = DM.get_CRF(datafile, modelfile, regularization)\n",
    "crf.load_data()\n",
    "crf.train(epoch,lr=0.01)"
   ]
  },
  {
   "cell_type": "code",
   "execution_count": 4,
   "metadata": {},
   "outputs": [
    {
     "name": "stdout",
     "output_type": "stream",
     "text": [
      " ******** CRF *********\n",
      "CRF model loaded\n",
      "* Test output has been saved at \"/home/pengfei/sutd-machine-learning-project/dataset/AL/dev.crf2.out\"\n",
      "\n",
      "#Entity in gold data: 8408\n",
      "#Entity in prediction: 7877\n",
      "\n",
      "#Correct Entity : 6973\n",
      "Entity  precision: 0.8852\n",
      "Entity  recall: 0.8293\n",
      "Entity  F: 0.8564\n",
      "\n",
      "#Correct Sentiment : 6298\n",
      "Sentiment  precision: 0.7995\n",
      "Sentiment  recall: 0.7490\n",
      "Sentiment  F: 0.7735\n"
     ]
    }
   ],
   "source": [
    "AL_crf_2 = AL/'dev.crf2.out'\n",
    "crf = DM.get_CRF(datafile, modelfile, regularization)\n",
    "crf.load_model(modelfile)\n",
    "crf.test(AL_dev_y, AL_crf_2)\n",
    "! python3 {EVAL_script} {AL_dev_y} {AL_crf_2}"
   ]
  },
  {
   "cell_type": "markdown",
   "metadata": {},
   "source": [
    "### final test"
   ]
  },
  {
   "cell_type": "code",
   "execution_count": null,
   "metadata": {},
   "outputs": [],
   "source": [
    "EN_para_CRF_1=EN_para_FOLDER/'CRF_1'\n",
    "datafile = EN_test_in \n",
    "modelfile = EN_para_CRF_1\n",
    "regularization = 10\n",
    "#################################\n",
    "crf = DM.get_CRF(datafile, modelfile, regularization)\n",
    "crf.load_model(modelfile)\n",
    "crf.test(EN_test_in,EN_test_out)\n",
    "! python3 {EVAL_script} {EN_dev_y} {EN_test_out}"
   ]
  }
 ],
 "metadata": {
  "kernelspec": {
   "display_name": "Python 3",
   "language": "python",
   "name": "python3"
  },
  "language_info": {
   "codemirror_mode": {
    "name": "ipython",
    "version": 3
   },
   "file_extension": ".py",
   "mimetype": "text/x-python",
   "name": "python",
   "nbconvert_exporter": "python",
   "pygments_lexer": "ipython3",
   "version": "3.7.3"
  }
 },
 "nbformat": 4,
 "nbformat_minor": 2
}
