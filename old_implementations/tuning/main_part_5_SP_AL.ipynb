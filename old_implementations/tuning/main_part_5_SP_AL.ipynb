{
 "cells": [
  {
   "cell_type": "code",
   "execution_count": 1,
   "metadata": {},
   "outputs": [],
   "source": [
    "from PGM.DM.dm import *\n",
    "from pathlib import Path"
   ]
  },
  {
   "cell_type": "code",
   "execution_count": 2,
   "metadata": {},
   "outputs": [],
   "source": [
    "DATA_FOLDER = Path('./dataset/')\n",
    "AL = DATA_FOLDER/'AL'\n",
    "AL_train = AL/'train'\n",
    "AL_dev_x = AL/'dev.in'\n",
    "AL_dev_y = AL/'dev.out'\n",
    "AL_out_2 = AL/'dev.p2.out'\n",
    "AL_out_3 = AL/'dev.p3.out'\n",
    "AL_out_4 = AL/'dev.p4.out'\n",
    "AL_crf_1 = AL/'dev.crf1.out'\n",
    "AL_memm_1 = AL/'dev.memm1.out'\n",
    "AL_sp_1 = AL/'dev.sp1.out'\n",
    "\n",
    "EN = DATA_FOLDER/'EN'\n",
    "EN_train = EN/'train'\n",
    "EN_dev_x = EN/'dev.in'\n",
    "EN_dev_y = EN/'dev.out'\n",
    "EN_out_2 = EN/'dev.p2.out'\n",
    "EN_out_3 = EN/'dev.p3.out'\n",
    "EN_out_4 = EN/'dev.p4.out'\n",
    "EN_crf_1 = EN/'dev.crf1.out'\n",
    "EN_memm_1 = EN/'dev.memm1.out'\n",
    "EN_sp_1 = EN/'dev.sp1.out'\n",
    "\n",
    "CN = DATA_FOLDER/'CN'\n",
    "CN_train = CN/'train'\n",
    "CN_dev_x = CN/'dev.in'\n",
    "CN_dev_y = CN/'dev.out'\n",
    "CN_out_2 = CN/'dev.p2.out'\n",
    "CN_out_3 = CN/'dev.p3.out'\n",
    "\n",
    "SG = DATA_FOLDER/'SG'\n",
    "SG_train = SG/'train'\n",
    "SG_dev_x = SG/'dev.in'\n",
    "SG_dev_y = SG/'dev.out'\n",
    "SG_out_2 = SG/'dev.p2.out'\n",
    "SG_out_3 = SG/'dev.p3.out'\n",
    "\n",
    "PARA_FOLDER = DATA_FOLDER/'parameter'\n",
    "AL_para_FOLDER = PARA_FOLDER/'AL'\n",
    "EN_para_FOLDER = PARA_FOLDER/'EN'\n",
    "\n",
    "EVAL_script = './EvalScript/evalResult.py'"
   ]
  },
  {
   "cell_type": "code",
   "execution_count": 3,
   "metadata": {},
   "outputs": [
    {
     "name": "stdout",
     "output_type": "stream",
     "text": [
      " ******** SP *********\n",
      "* Number of labels: 42\n",
      "* Number of features: 443993\n",
      "* Initialized weight of size: 443993\n",
      " ******** Start Training *********\n",
      "* Squared sigma: 10\n",
      "* Start Gradient Descend\n",
      "   ========================\n",
      "   iter(sit): Negative log-likelihood\n",
      "   ------------------------\n",
      "   Iteration: 0, Negative Log-likelihood: -0.0\n",
      "   Iteration: 1, Negative Log-likelihood: 9862054.95\n",
      "   Iteration: 2, Negative Log-likelihood: 2798728.345140766\n",
      "   Iteration: 3, Negative Log-likelihood: 471298.74783530453\n",
      "   Iteration: 4, Negative Log-likelihood: 1899117.221298697\n",
      "   Iteration: 5, Negative Log-likelihood: 471699.83451168425\n",
      "   Iteration: 6, Negative Log-likelihood: 646951.0982014483\n",
      "   Iteration: 7, Negative Log-likelihood: 419341.3805890942\n",
      "   Iteration: 8, Negative Log-likelihood: 545010.4467075918\n",
      "   Iteration: 9, Negative Log-likelihood: 384834.938699189\n",
      "   Iteration: 10, Negative Log-likelihood: 402615.3786619578\n",
      "   Iteration: 11, Negative Log-likelihood: 290481.2921698009\n",
      "   Iteration: 12, Negative Log-likelihood: 328533.9478094559\n",
      "   Iteration: 13, Negative Log-likelihood: 239193.77526421286\n",
      "   Iteration: 14, Negative Log-likelihood: 268626.89726078254\n",
      "   Iteration: 15, Negative Log-likelihood: 205015.3630225027\n",
      "   Iteration: 16, Negative Log-likelihood: 225350.2496771266\n",
      "   Iteration: 17, Negative Log-likelihood: 178706.37468427938\n",
      "   Iteration: 18, Negative Log-likelihood: 202795.99820130778\n",
      "   Iteration: 19, Negative Log-likelihood: 158682.5567637166\n",
      "   Iteration: 20, Negative Log-likelihood: 179673.45557705066\n",
      "   Iteration: 21, Negative Log-likelihood: 145630.46754843183\n",
      "   Iteration: 22, Negative Log-likelihood: 168170.87368902907\n",
      "   Iteration: 23, Negative Log-likelihood: 135890.65079782973\n",
      "   Iteration: 24, Negative Log-likelihood: 155444.4854795329\n",
      "   Iteration: 25, Negative Log-likelihood: 128338.28495657464\n",
      "   Iteration: 26, Negative Log-likelihood: 140699.51277462294\n",
      "   Iteration: 27, Negative Log-likelihood: 118158.79110216882\n",
      "   Iteration: 28, Negative Log-likelihood: 130673.91991640948\n",
      "   Iteration: 29, Negative Log-likelihood: 112889.3196615286\n",
      "   ========================\n",
      "   (iter: iteration, sit: sub iteration)\n",
      "* Likelihood: 112889.3196615286\n",
      " ******** Finished Training *********\n",
      "* Trained CRF Model has been saved at \"/home/pengfei/sutd-machine-learning-project/dataset/parameter/AL/SP_1\"\n",
      "* Elapsed time: 308.0 mins\n"
     ]
    }
   ],
   "source": [
    "AL_para_SP_1=AL_para_FOLDER/'SP_1'\n",
    "datafile = AL_train\n",
    "modelfile = AL_para_SP_1\n",
    "regularization = 10\n",
    "epoch = 30\n",
    "sp = DM.get_SP(datafile, modelfile, regularization)\n",
    "sp.load_data()\n",
    "sp.train(epoch)"
   ]
  },
  {
   "cell_type": "code",
   "execution_count": 6,
   "metadata": {},
   "outputs": [
    {
     "name": "stdout",
     "output_type": "stream",
     "text": [
      " ******** SP *********\n",
      "CRF model loaded\n",
      "* Test output has been saved at \"/home/pengfei/sutd-machine-learning-project/dataset/AL/dev.sp1.out\"\n",
      "\n",
      "#Entity in gold data: 8408\n",
      "#Entity in prediction: 9068\n",
      "\n",
      "#Correct Entity : 6625\n",
      "Entity  precision: 0.7306\n",
      "Entity  recall: 0.7879\n",
      "Entity  F: 0.7582\n",
      "\n",
      "#Correct Sentiment : 5385\n",
      "Sentiment  precision: 0.5938\n",
      "Sentiment  recall: 0.6405\n",
      "Sentiment  F: 0.6163\n"
     ]
    }
   ],
   "source": [
    "sp = DM.get_SP(datafile, modelfile, regularization)\n",
    "sp.load_model(modelfile)\n",
    "sp.test(AL_dev_y, AL_sp_1)\n",
    "! python3 {EVAL_script} {AL_dev_y} {AL_sp_1}"
   ]
  },
  {
   "cell_type": "markdown",
   "metadata": {},
   "source": [
    "## continuation (3)"
   ]
  },
  {
   "cell_type": "code",
   "execution_count": 3,
   "metadata": {},
   "outputs": [
    {
     "name": "stdout",
     "output_type": "stream",
     "text": [
      " ******** SP *********\n",
      "* Number of labels: 42\n",
      "* Number of features: 443993\n",
      "* Initialized weight of size: 443993\n",
      "CRF model loaded\n",
      " ******** Start Training *********\n",
      "* Squared sigma: 10\n",
      "* Start Gradient Descend\n",
      "   ========================\n",
      "   iter(sit): Negative log-likelihood\n",
      "   ------------------------\n",
      "   Iteration: 0, Negative Log-likelihood: 96591.96145152026\n",
      "   Iteration: 1, Negative Log-likelihood: 83150.13516842453\n",
      "   Iteration: 2, Negative Log-likelihood: 76337.15104452535\n",
      "   ========================\n",
      "   (iter: iteration, sit: sub iteration)\n",
      "* Likelihood: 76337.15104452535\n",
      " ******** Finished Training *********\n",
      "* Trained CRF Model has been saved at \"/home/pengfei/sutd-machine-learning-project/dataset/parameter/AL/SP_1\"\n",
      "* Elapsed time: 29.0 mins\n"
     ]
    }
   ],
   "source": [
    "AL_para_SP_1=AL_para_FOLDER/'SP_1'\n",
    "datafile = AL_train\n",
    "modelfile = AL_para_SP_1\n",
    "regularization = 10\n",
    "epoch = 3\n",
    "sp = DM.get_SP(datafile, modelfile, regularization)\n",
    "sp.load_data()\n",
    "sp.load_model(modelfile)\n",
    "sp.train(epoch,lr=0.01)"
   ]
  },
  {
   "cell_type": "code",
   "execution_count": 4,
   "metadata": {
    "scrolled": true
   },
   "outputs": [
    {
     "name": "stdout",
     "output_type": "stream",
     "text": [
      " ******** SP *********\n",
      "CRF model loaded\n",
      "* Test output has been saved at \"/home/pengfei/sutd-machine-learning-project/dataset/AL/dev.sp1.out\"\n",
      "\n",
      "#Entity in gold data: 8408\n",
      "#Entity in prediction: 8965\n",
      "\n",
      "#Correct Entity : 6905\n",
      "Entity  precision: 0.7702\n",
      "Entity  recall: 0.8212\n",
      "Entity  F: 0.7949\n",
      "\n",
      "#Correct Sentiment : 5968\n",
      "Sentiment  precision: 0.6657\n",
      "Sentiment  recall: 0.7098\n",
      "Sentiment  F: 0.6870\n"
     ]
    }
   ],
   "source": [
    "sp = DM.get_SP(datafile, modelfile, regularization)\n",
    "sp.load_model(modelfile)\n",
    "sp.test(AL_dev_y, AL_sp_1)\n",
    "! python3 {EVAL_script} {AL_dev_y} {AL_sp_1}"
   ]
  },
  {
   "cell_type": "markdown",
   "metadata": {},
   "source": [
    "## continuation 2 (10)"
   ]
  },
  {
   "cell_type": "code",
   "execution_count": 3,
   "metadata": {},
   "outputs": [
    {
     "name": "stdout",
     "output_type": "stream",
     "text": [
      " ******** SP *********\n",
      "* Number of labels: 42\n",
      "* Number of features: 443993\n",
      "* Initialized weight of size: 443993\n",
      "CRF model loaded\n",
      " ******** Start Training *********\n",
      "* Squared sigma: 10\n",
      "* Start Gradient Descend\n",
      "   ========================\n",
      "   iter(sit): Negative log-likelihood\n",
      "   ------------------------\n",
      "   Iteration: 1, Negative Log-likelihood: 73053.38955994346\n",
      "   Iteration: 2, Negative Log-likelihood: 71471.66294587782\n",
      "   Iteration: 3, Negative Log-likelihood: 70264.0691140941\n",
      "   Iteration: 4, Negative Log-likelihood: 69265.86016300535\n",
      "   Iteration: 5, Negative Log-likelihood: 68437.1900282616\n",
      "   Iteration: 6, Negative Log-likelihood: 67724.48196970548\n",
      "   Iteration: 7, Negative Log-likelihood: 67119.11773659394\n",
      "   Iteration: 8, Negative Log-likelihood: 66565.59391244513\n",
      "   Iteration: 9, Negative Log-likelihood: 66055.44547346912\n",
      "   Iteration: 10, Negative Log-likelihood: 65595.3479578205\n",
      "   ========================\n",
      "   (iter: iteration, sit: sub iteration)\n",
      "* Likelihood: 65595.3479578205\n",
      " ******** Finished Training *********\n",
      "* Trained CRF Model has been saved at \"/home/pengfei/sutd-machine-learning-project/dataset/parameter/AL/SP_1\"\n",
      "* Elapsed time: 103.0 mins\n"
     ]
    }
   ],
   "source": [
    "AL_para_SP_1=AL_para_FOLDER/'SP_1'\n",
    "datafile = AL_train\n",
    "modelfile = AL_para_SP_1\n",
    "regularization = 10\n",
    "epoch = 10\n",
    "sp = DM.get_SP(datafile, modelfile, regularization)\n",
    "sp.load_data()\n",
    "sp.load_model(modelfile)\n",
    "sp.train(epoch,lr=0.005)"
   ]
  },
  {
   "cell_type": "code",
   "execution_count": 4,
   "metadata": {},
   "outputs": [
    {
     "name": "stdout",
     "output_type": "stream",
     "text": [
      " ******** SP *********\n",
      "CRF model loaded\n",
      "* Test output has been saved at \"/home/pengfei/sutd-machine-learning-project/dataset/AL/dev.sp1.out\"\n",
      "\n",
      "#Entity in gold data: 8408\n",
      "#Entity in prediction: 8945\n",
      "\n",
      "#Correct Entity : 7011\n",
      "Entity  precision: 0.7838\n",
      "Entity  recall: 0.8338\n",
      "Entity  F: 0.8080\n",
      "\n",
      "#Correct Sentiment : 6124\n",
      "Sentiment  precision: 0.6846\n",
      "Sentiment  recall: 0.7284\n",
      "Sentiment  F: 0.7058\n"
     ]
    }
   ],
   "source": [
    "sp = DM.get_SP(datafile, modelfile, regularization)\n",
    "sp.load_model(modelfile)\n",
    "sp.test(AL_dev_y, AL_sp_1)\n",
    "! python3 {EVAL_script} {AL_dev_y} {AL_sp_1}"
   ]
  },
  {
   "cell_type": "code",
   "execution_count": null,
   "metadata": {},
   "outputs": [],
   "source": []
  }
 ],
 "metadata": {
  "kernelspec": {
   "display_name": "Python 3",
   "language": "python",
   "name": "python3"
  },
  "language_info": {
   "codemirror_mode": {
    "name": "ipython",
    "version": 3
   },
   "file_extension": ".py",
   "mimetype": "text/x-python",
   "name": "python",
   "nbconvert_exporter": "python",
   "pygments_lexer": "ipython3",
   "version": "3.7.3"
  }
 },
 "nbformat": 4,
 "nbformat_minor": 2
}
