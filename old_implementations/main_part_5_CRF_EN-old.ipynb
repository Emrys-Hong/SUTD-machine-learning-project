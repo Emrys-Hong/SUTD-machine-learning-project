{
 "cells": [
  {
   "cell_type": "code",
   "execution_count": 1,
   "metadata": {},
   "outputs": [],
   "source": [
    "from PGM.DM.dm import *\n",
    "from pathlib import Path"
   ]
  },
  {
   "cell_type": "code",
   "execution_count": 9,
   "metadata": {},
   "outputs": [],
   "source": [
    "DATA_FOLDER = Path('./dataset/')\n",
    "\n",
    "\n",
    "EN = DATA_FOLDER/'EN'\n",
    "EN_train = EN/'train'\n",
    "EN_dev_x = EN/'dev.in'\n",
    "EN_dev_y = EN/'dev.out'\n",
    "EN_out_2 = EN/'dev.p2.out'\n",
    "EN_out_3 = EN/'dev.p3.out'\n",
    "EN_out_4 = EN/'dev.p4.out'\n",
    "EN_crf_1 = EN/'dev.crf1.out'\n",
    "EN_crf_11 = EN/'dev.crf11.out'\n",
    "EN_memm_1 = EN/'dev.memm1.out'\n",
    "EN_sp_1 = EN/'dev.sp1.out'\n",
    "\n",
    "\n",
    "PARA_FOLDER = DATA_FOLDER/'parameter'\n",
    "AL_para_FOLDER = PARA_FOLDER/'AL'\n",
    "EN_para_FOLDER = PARA_FOLDER/'EN'\n",
    "\n",
    "EVAL_script = './EvalScript/evalResult.py'\n",
    "#################################################\n",
    "EN_test_in = EN/\"test.in\"\n",
    "EN_test_out = EN/\"test.out\"\n",
    "AL_test_in = AL/\"test.in\"\n",
    "AL_test_out = AL/\"test.out\"\n",
    "AL_test_out_1 = AL/\"test1.out\""
   ]
  },
  {
   "cell_type": "code",
   "execution_count": 5,
   "metadata": {},
   "outputs": [
    {
     "name": "stdout",
     "output_type": "stream",
     "text": [
      " ******** CRF *********\n",
      "* Number of labels: 21\n",
      "* Number of features: 801120\n",
      "* Initialized weight of size: 801120\n",
      " ******** Start Training *********\n",
      "* Squared sigma: 10\n",
      "* Start Gradient Descend\n",
      "   ========================\n",
      "   iter(sit): Negative log-likelihood\n",
      "   ------------------------\n",
      "   Iteration: 0, Negative Log-likelihood: 552971.0259626366\n",
      "   Iteration: 1, Negative Log-likelihood: 302239.3705810338\n",
      "   Iteration: 2, Negative Log-likelihood: 329765.2072340142\n",
      "   Iteration: 3, Negative Log-likelihood: 183565.70088908664\n",
      "   Iteration: 4, Negative Log-likelihood: 176268.4506836803\n",
      "   Iteration: 5, Negative Log-likelihood: 134368.8650630805\n",
      "   Iteration: 6, Negative Log-likelihood: 128499.3068339848\n",
      "   Iteration: 7, Negative Log-likelihood: 109340.86827536151\n",
      "   Iteration: 8, Negative Log-likelihood: 103687.0264011708\n",
      "   Iteration: 9, Negative Log-likelihood: 94182.9171344954\n",
      "   Iteration: 10, Negative Log-likelihood: 88362.10235672901\n",
      "   Iteration: 11, Negative Log-likelihood: 82989.46484183696\n",
      "   Iteration: 12, Negative Log-likelihood: 78647.88325730735\n",
      "   Iteration: 13, Negative Log-likelihood: 74059.73784250424\n",
      "   Iteration: 14, Negative Log-likelihood: 69997.25080941238\n",
      "   Iteration: 15, Negative Log-likelihood: 66194.08169550923\n",
      "   Iteration: 16, Negative Log-likelihood: 62948.85094579896\n",
      "   Iteration: 17, Negative Log-likelihood: 59921.31276105164\n",
      "   Iteration: 18, Negative Log-likelihood: 57162.635653787314\n",
      "   Iteration: 19, Negative Log-likelihood: 54552.22178416393\n",
      "   Iteration: 20, Negative Log-likelihood: 52135.11081752372\n",
      "   Iteration: 21, Negative Log-likelihood: 49880.53280020891\n",
      "   Iteration: 22, Negative Log-likelihood: 47795.5716922185\n",
      "   Iteration: 23, Negative Log-likelihood: 45830.34424435205\n",
      "   Iteration: 24, Negative Log-likelihood: 44025.43582541786\n",
      "   Iteration: 25, Negative Log-likelihood: 42271.56740645353\n",
      "   Iteration: 26, Negative Log-likelihood: 40644.70984352812\n",
      "   Iteration: 27, Negative Log-likelihood: 39092.00620064286\n",
      "   Iteration: 28, Negative Log-likelihood: 37642.22401288922\n",
      "   Iteration: 29, Negative Log-likelihood: 36268.548014728694\n",
      "   ========================\n",
      "   (iter: iteration, sit: sub iteration)\n",
      "* Likelihood: 36268.548014728694\n",
      " ******** Finished Training *********\n",
      "* Trained CRF Model has been saved at \"/home/pengfei/sutd-machine-learning-project/dataset/parameter/EN/CRF_1\"\n",
      "* Elapsed time: 229.0 mins\n"
     ]
    }
   ],
   "source": [
    "EN_para_CRF_1=EN_para_FOLDER/'CRF_1'\n",
    "datafile = EN_train\n",
    "modelfile = EN_para_CRF_1\n",
    "regularization = 10\n",
    "epoch = 30\n",
    "crf = DM.get_CRF(datafile, modelfile, regularization)\n",
    "crf.load_data()\n",
    "crf.train(epoch)"
   ]
  },
  {
   "cell_type": "code",
   "execution_count": 11,
   "metadata": {},
   "outputs": [
    {
     "name": "stdout",
     "output_type": "stream",
     "text": [
      " ******** CRF *********\n",
      "CRF model loaded\n",
      "* Test output has been saved at \"/home/pengfei/sutd-machine-learning-project/dataset/EN/dev.crf1.out\"\n",
      "\n",
      "#Entity in gold data: 13179\n",
      "#Entity in prediction: 12980\n",
      "\n",
      "#Correct Entity : 11584\n",
      "Entity  precision: 0.8924\n",
      "Entity  recall: 0.8790\n",
      "Entity  F: 0.8857\n",
      "\n",
      "#Correct Sentiment : 11208\n",
      "Sentiment  precision: 0.8635\n",
      "Sentiment  recall: 0.8504\n",
      "Sentiment  F: 0.8569\n"
     ]
    }
   ],
   "source": [
    "crf = DM.get_CRF(datafile, modelfile, regularization)\n",
    "crf.load_model(modelfile)\n",
    "crf.test(EN_dev_y,EN_crf_1)\n",
    "! python3 {EVAL_script} {EN_dev_y} {EN_crf_1}"
   ]
  },
  {
   "cell_type": "markdown",
   "metadata": {},
   "source": [
    "## Continuation(10)"
   ]
  },
  {
   "cell_type": "code",
   "execution_count": 3,
   "metadata": {},
   "outputs": [
    {
     "name": "stdout",
     "output_type": "stream",
     "text": [
      " ******** CRF *********\n",
      "CRF model loaded\n",
      "* Number of labels: 21\n",
      "* Number of features: 801120\n",
      "* Initialized weight of size: 801120\n",
      " ******** Start Training *********\n",
      "* Squared sigma: 10\n",
      "* Start Gradient Descend\n",
      "   ========================\n",
      "   iter(sit): Negative log-likelihood\n",
      "   ------------------------\n",
      "   Iteration: 1, Negative Log-likelihood: 552971.0259626366\n",
      "   Iteration: 2, Negative Log-likelihood: 493337.24923661444\n",
      "   Iteration: 3, Negative Log-likelihood: 445582.18991437776\n",
      "   Iteration: 4, Negative Log-likelihood: 405027.8223695171\n",
      "   Iteration: 5, Negative Log-likelihood: 369506.87754504906\n",
      "   Iteration: 6, Negative Log-likelihood: 337825.983411538\n",
      "   Iteration: 7, Negative Log-likelihood: 309260.4298053501\n",
      "   Iteration: 8, Negative Log-likelihood: 283345.3085692034\n",
      "   Iteration: 9, Negative Log-likelihood: 259774.35138027754\n",
      "   Iteration: 10, Negative Log-likelihood: 238336.50371277888\n",
      "   ========================\n",
      "   (iter: iteration, sit: sub iteration)\n",
      "* Likelihood: 238336.50371277888\n",
      " ******** Finished Training *********\n",
      "* Trained CRF Model has been saved at \"/home/pengfei/sutd-machine-learning-project/dataset/parameter/EN/CRF_1\"\n",
      "* Elapsed time: 70.0 mins\n"
     ]
    }
   ],
   "source": [
    "EN_para_CRF_1=EN_para_FOLDER/'CRF_1'\n",
    "datafile = EN_train\n",
    "modelfile = EN_para_CRF_1\n",
    "regularization = 10\n",
    "epoch = 10\n",
    "#################################\n",
    "crf = DM.get_CRF(datafile, modelfile, regularization)\n",
    "crf.load_model(modelfile)\n",
    "crf.load_data()\n",
    "crf.train(epoch,lr=0.01)"
   ]
  },
  {
   "cell_type": "code",
   "execution_count": 4,
   "metadata": {},
   "outputs": [
    {
     "name": "stdout",
     "output_type": "stream",
     "text": [
      " ******** CRF *********\n",
      "CRF model loaded\n",
      "* Test output has been saved at \"/home/pengfei/sutd-machine-learning-project/dataset/EN/dev.crf11.out\"\n",
      "\n",
      "#Entity in gold data: 13179\n",
      "#Entity in prediction: 12793\n",
      "\n",
      "#Correct Entity : 11170\n",
      "Entity  precision: 0.8731\n",
      "Entity  recall: 0.8476\n",
      "Entity  F: 0.8602\n",
      "\n",
      "#Correct Sentiment : 10597\n",
      "Sentiment  precision: 0.8283\n",
      "Sentiment  recall: 0.8041\n",
      "Sentiment  F: 0.8160\n"
     ]
    }
   ],
   "source": [
    "crf = DM.get_CRF(datafile, modelfile, regularization)\n",
    "crf.load_model(modelfile)\n",
    "crf.test(EN_dev_y,EN_crf_11)\n",
    "! python3 {EVAL_script} {EN_dev_y} {EN_crf_11}"
   ]
  },
  {
   "cell_type": "markdown",
   "metadata": {},
   "source": [
    "## continue"
   ]
  },
  {
   "cell_type": "code",
   "execution_count": 3,
   "metadata": {},
   "outputs": [
    {
     "name": "stdout",
     "output_type": "stream",
     "text": [
      " ******** CRF *********\n",
      "CRF model loaded\n",
      "* Number of labels: 21\n",
      "* Number of features: 801120\n",
      "* Initialized weight of size: 801120\n",
      " ******** Start Training *********\n",
      "* Squared sigma: 10\n",
      "* Start Gradient Descend\n",
      "   ========================\n",
      "   iter(sit): Negative log-likelihood\n",
      "   ------------------------\n",
      "   Iteration: 1, Negative Log-likelihood: 552971.0259626366\n",
      "   Iteration: 2, Negative Log-likelihood: 523027.4920455216\n",
      "   Iteration: 3, Negative Log-likelihood: 498799.1594117266\n",
      "   Iteration: 4, Negative Log-likelihood: 477986.62335275527\n",
      "   Iteration: 5, Negative Log-likelihood: 459513.3166881959\n",
      "   Iteration: 6, Negative Log-likelihood: 442774.1513723557\n",
      "   Iteration: 7, Negative Log-likelihood: 427389.5672022542\n",
      "   Iteration: 8, Negative Log-likelihood: 413103.07867684215\n",
      "   Iteration: 9, Negative Log-likelihood: 399732.0630382261\n",
      "   Iteration: 10, Negative Log-likelihood: 387141.22835377185\n",
      "   ========================\n",
      "   (iter: iteration, sit: sub iteration)\n",
      "* Likelihood: 387141.22835377185\n",
      " ******** Finished Training *********\n",
      "* Trained CRF Model has been saved at \"/home/pengfei/sutd-machine-learning-project/dataset/parameter/EN/CRF_1\"\n",
      "* Elapsed time: 66.0 mins\n"
     ]
    }
   ],
   "source": [
    "EN_para_CRF_1=EN_para_FOLDER/'CRF_1'\n",
    "datafile = EN_train\n",
    "modelfile = EN_para_CRF_1\n",
    "regularization = 10\n",
    "epoch = 10\n",
    "#################################\n",
    "crf = DM.get_CRF(datafile, modelfile, regularization)\n",
    "crf.load_model(modelfile)\n",
    "crf.load_data()\n",
    "crf.train(epoch,lr=0.005)"
   ]
  },
  {
   "cell_type": "code",
   "execution_count": 4,
   "metadata": {},
   "outputs": [
    {
     "name": "stdout",
     "output_type": "stream",
     "text": [
      " ******** CRF *********\n",
      "CRF model loaded\n",
      "* Test output has been saved at \"/home/pengfei/sutd-machine-learning-project/dataset/EN/dev.crf11.out\"\n",
      "\n",
      "#Entity in gold data: 13179\n",
      "#Entity in prediction: 12814\n",
      "\n",
      "#Correct Entity : 11169\n",
      "Entity  precision: 0.8716\n",
      "Entity  recall: 0.8475\n",
      "Entity  F: 0.8594\n",
      "\n",
      "#Correct Sentiment : 10582\n",
      "Sentiment  precision: 0.8258\n",
      "Sentiment  recall: 0.8029\n",
      "Sentiment  F: 0.8142\n"
     ]
    }
   ],
   "source": [
    "crf = DM.get_CRF(datafile, modelfile, regularization)\n",
    "crf.load_model(modelfile)\n",
    "crf.test(EN_dev_y,EN_crf_11)\n",
    "! python3 {EVAL_script} {EN_dev_y} {EN_crf_11}"
   ]
  },
  {
   "cell_type": "markdown",
   "metadata": {},
   "source": [
    "### Final Test"
   ]
  },
  {
   "cell_type": "markdown",
   "metadata": {},
   "source": [
    "### EN"
   ]
  },
  {
   "cell_type": "code",
   "execution_count": 13,
   "metadata": {},
   "outputs": [
    {
     "name": "stdout",
     "output_type": "stream",
     "text": [
      " ******** CRF *********\n",
      "CRF model loaded\n",
      "* Test output has been saved at \"/home/pengfei/sutd-machine-learning-project/dataset/EN/test.out\"\n",
      "\n",
      "#Entity in gold data: 13179\n",
      "#Entity in prediction: 12585\n",
      "\n",
      "#Correct Entity : 2003\n",
      "Entity  precision: 0.1592\n",
      "Entity  recall: 0.1520\n",
      "Entity  F: 0.1555\n",
      "\n",
      "#Correct Sentiment : 819\n",
      "Sentiment  precision: 0.0651\n",
      "Sentiment  recall: 0.0621\n",
      "Sentiment  F: 0.0636\n"
     ]
    }
   ],
   "source": [
    "EN_para_CRF_1=EN_para_FOLDER/'CRF_1'\n",
    "datafile = EN_test_in \n",
    "modelfile = EN_para_CRF_1\n",
    "regularization = 10\n",
    "#################################\n",
    "crf = DM.get_CRF(datafile, modelfile, regularization)\n",
    "crf.load_model(modelfile)\n",
    "crf.test(EN_test_in,EN_test_out)\n",
    "! python3 {EVAL_script} {EN_dev_y} {EN_test_out}"
   ]
  },
  {
   "cell_type": "markdown",
   "metadata": {},
   "source": [
    "### AL"
   ]
  },
  {
   "cell_type": "code",
   "execution_count": 8,
   "metadata": {},
   "outputs": [
    {
     "name": "stdout",
     "output_type": "stream",
     "text": [
      " ******** CRF *********\n",
      "CRF model loaded\n",
      "* Test output has been saved at \"/home/pengfei/sutd-machine-learning-project/dataset/AL/test.out\"\n",
      "\n",
      "#Entity in gold data: 13179\n",
      "#Entity in prediction: 5812\n",
      "\n",
      "#Correct Entity : 517\n",
      "Entity  precision: 0.0890\n",
      "Entity  recall: 0.0392\n",
      "Entity  F: 0.0544\n",
      "\n",
      "#Correct Sentiment : 0\n",
      "Sentiment  precision: 0.0000\n",
      "Sentiment  recall: 0.0000\n",
      "Sentiment  F: 0.0000\n"
     ]
    }
   ],
   "source": [
    "AL_para_CRF_2=AL_para_FOLDER/'CRF_2'\n",
    "datafile = AL_test_in \n",
    "modelfile = AL_para_CRF_2\n",
    "regularization = 10\n",
    "#################################\n",
    "crf = DM.get_CRF(datafile, modelfile, regularization)\n",
    "crf.load_model(modelfile)\n",
    "crf.test(AL_test_in,AL_test_out)\n",
    "! python3 {EVAL_script} {EN_dev_y} {AL_test_out}"
   ]
  },
  {
   "cell_type": "code",
   "execution_count": 12,
   "metadata": {},
   "outputs": [
    {
     "name": "stdout",
     "output_type": "stream",
     "text": [
      " ******** CRF *********\n",
      "CRF model loaded\n",
      "* Test output has been saved at \"/home/pengfei/sutd-machine-learning-project/dataset/AL/test1.out\"\n",
      "\n",
      "#Entity in gold data: 13179\n",
      "#Entity in prediction: 6265\n",
      "\n",
      "#Correct Entity : 567\n",
      "Entity  precision: 0.0905\n",
      "Entity  recall: 0.0430\n",
      "Entity  F: 0.0583\n",
      "\n",
      "#Correct Sentiment : 0\n",
      "Sentiment  precision: 0.0000\n",
      "Sentiment  recall: 0.0000\n",
      "Sentiment  F: 0.0000\n"
     ]
    }
   ],
   "source": [
    "AL_para_CRF_1=AL_para_FOLDER/'CRF_1'\n",
    "datafile = AL_test_in \n",
    "modelfile = AL_para_CRF_1\n",
    "regularization = 10\n",
    "#################################\n",
    "crf = DM.get_CRF(datafile, modelfile, regularization)\n",
    "crf.load_model(modelfile)\n",
    "crf.test(AL_test_in,AL_test_out_1)\n",
    "! python3 {EVAL_script} {EN_dev_y} {AL_test_out_1}"
   ]
  },
  {
   "cell_type": "markdown",
   "metadata": {},
   "source": [
    "### model confirm"
   ]
  },
  {
   "cell_type": "code",
   "execution_count": null,
   "metadata": {},
   "outputs": [],
   "source": [
    "# crf1"
   ]
  }
 ],
 "metadata": {
  "kernelspec": {
   "display_name": "Python 3",
   "language": "python",
   "name": "python3"
  },
  "language_info": {
   "codemirror_mode": {
    "name": "ipython",
    "version": 3
   },
   "file_extension": ".py",
   "mimetype": "text/x-python",
   "name": "python",
   "nbconvert_exporter": "python",
   "pygments_lexer": "ipython3",
   "version": "3.7.3"
  }
 },
 "nbformat": 4,
 "nbformat_minor": 2
}
