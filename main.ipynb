{
 "cells": [
  {
   "cell_type": "code",
   "execution_count": 10,
   "metadata": {},
   "outputs": [],
   "source": [
    "from PGM.GM.HMM.hidden_markov_model import *\n",
    "from pathlib import Path"
   ]
  },
  {
   "cell_type": "markdown",
   "metadata": {},
   "source": [
    "#### The input data is stored in List[List[str]] where: <br>\n",
    "#### for sentences:  each string is one word, each sublist is one sentence<br>\n",
    "#### for label: each string is one label, each sublist is labels for one sentence in corresponding sequence"
   ]
  },
  {
   "cell_type": "code",
   "execution_count": 1,
   "metadata": {},
   "outputs": [],
   "source": [
    "from HMM.hidden_markov_model import *"
   ]
  },
  {
   "cell_type": "markdown",
   "metadata": {},
   "source": [
    "### Get data"
   ]
  },
  {
   "cell_type": "code",
   "execution_count": 11,
   "metadata": {},
   "outputs": [],
   "source": [
    "DATA_FOLDER = Path('./dataset/')\n",
    "AL = DATA_FOLDER/'AL'\n",
    "AL_train = AL/'train'\n",
    "AL_dev_x = AL/'dev.in'\n",
    "AL_dev_y = AL/'dev.out'\n",
    "AL_out_2 = AL/'dev.p2.out'\n",
    "AL_out_3 = AL/'dev.p3.out'\n",
    "AL_out_4 = AL/'dev.p4.out'\n",
    "\n",
    "EN = DATA_FOLDER/'EN'\n",
    "EN_train = EN/'train'\n",
    "EN_dev_x = EN/'dev.in'\n",
    "EN_dev_y = EN/'dev.out'\n",
    "EN_out_2 = EN/'dev.p2.out'\n",
    "EN_out_3 = EN/'dev.p3.out'\n",
    "EN_out_4 = EN/'dev.p4.out'\n",
    "\n",
    "CN = DATA_FOLDER/'CN'\n",
    "CN_train = CN/'train'\n",
    "CN_dev_x = CN/'dev.in'\n",
    "CN_dev_y = CN/'dev.out'\n",
    "CN_out_2 = CN/'dev.p2.out'\n",
    "CN_out_3 = CN/'dev.p3.out'\n",
    "\n",
    "SG = DATA_FOLDER/'SG'\n",
    "SG_train = SG/'train'\n",
    "SG_dev_x = SG/'dev.in'\n",
    "SG_dev_y = SG/'dev.out'\n",
    "SG_out_2 = SG/'dev.p2.out'\n",
    "SG_out_3 = SG/'dev.p3.out'\n",
    "\n",
    "\n",
    "EVAL_script = './EvalScript/evalResult.py'"
   ]
  },
  {
   "cell_type": "markdown",
   "metadata": {},
   "source": [
    "## Part2"
   ]
  },
  {
   "cell_type": "markdown",
   "metadata": {},
   "source": [
    "#### The count is stored in a $|V|\\times|T|$ matrix\n",
    "\n",
    "#### The emission probabilities are obtained by dividing each entry in the counting matrix by the sum of corresponding row\n",
    "\n",
    "#### The prediction algorithm is simple: find the maximum entry's column index and convert it to tag"
   ]
  },
  {
   "cell_type": "markdown",
   "metadata": {},
   "source": [
    "##### AL"
   ]
  },
  {
   "cell_type": "code",
   "execution_count": 12,
   "metadata": {
    "scrolled": true
   },
   "outputs": [
    {
     "name": "stdout",
     "output_type": "stream",
     "text": [
      "\n",
      "#Entity in gold data: 8408\n",
      "#Entity in prediction: 19484\n",
      "\n",
      "#Correct Entity : 2898\n",
      "Entity  precision: 0.1487\n",
      "Entity  recall: 0.3447\n",
      "Entity  F: 0.2078\n",
      "\n",
      "#Correct Sentiment : 2457\n",
      "Sentiment  precision: 0.1261\n",
      "Sentiment  recall: 0.2922\n",
      "Sentiment  F: 0.1762\n"
     ]
    }
   ],
   "source": [
    "hmm = HMM(AL_train)\n",
    "hmm.train_emission()\n",
    "hmm.navie_predict(AL_dev_y, AL_out_2)\n",
    "! python {EVAL_script} {AL_dev_y} {AL_out_2}"
   ]
  },
  {
   "cell_type": "markdown",
   "metadata": {},
   "source": [
    "#### EN"
   ]
  },
  {
   "cell_type": "code",
   "execution_count": 13,
   "metadata": {},
   "outputs": [
    {
     "name": "stdout",
     "output_type": "stream",
     "text": [
      "\n",
      "#Entity in gold data: 13179\n",
      "#Entity in prediction: 19406\n",
      "\n",
      "#Correct Entity : 9152\n",
      "Entity  precision: 0.4716\n",
      "Entity  recall: 0.6944\n",
      "Entity  F: 0.5617\n",
      "\n",
      "#Correct Sentiment : 7644\n",
      "Sentiment  precision: 0.3939\n",
      "Sentiment  recall: 0.5800\n",
      "Sentiment  F: 0.4692\n"
     ]
    }
   ],
   "source": [
    "hmm = HMM(EN_train)\n",
    "hmm.train_emission()\n",
    "hmm.navie_predict(EN_dev_y, EN_out_2)\n",
    "! python {EVAL_script} {EN_dev_y} {EN_out_2}"
   ]
  },
  {
   "cell_type": "markdown",
   "metadata": {},
   "source": [
    "#### SG"
   ]
  },
  {
   "cell_type": "code",
   "execution_count": 14,
   "metadata": {},
   "outputs": [
    {
     "name": "stdout",
     "output_type": "stream",
     "text": [
      "\n",
      "#Entity in gold data: 4537\n",
      "#Entity in prediction: 18451\n",
      "\n",
      "#Correct Entity : 2632\n",
      "Entity  precision: 0.1426\n",
      "Entity  recall: 0.5801\n",
      "Entity  F: 0.2290\n",
      "\n",
      "#Correct Sentiment : 1239\n",
      "Sentiment  precision: 0.0672\n",
      "Sentiment  recall: 0.2731\n",
      "Sentiment  F: 0.1078\n"
     ]
    }
   ],
   "source": [
    "hmm = HMM(SG_train)\n",
    "hmm.train_emission()\n",
    "hmm.navie_predict(SG_dev_y, SG_out_2)\n",
    "! python {EVAL_script} {SG_dev_y} {SG_out_2}"
   ]
  },
  {
   "cell_type": "markdown",
   "metadata": {},
   "source": [
    "#### CN"
   ]
  },
  {
   "cell_type": "code",
   "execution_count": 15,
   "metadata": {},
   "outputs": [
    {
     "name": "stdout",
     "output_type": "stream",
     "text": [
      "\n",
      "#Entity in gold data: 1478\n",
      "#Entity in prediction: 9373\n",
      "\n",
      "#Correct Entity : 765\n",
      "Entity  precision: 0.0816\n",
      "Entity  recall: 0.5176\n",
      "Entity  F: 0.1410\n",
      "\n",
      "#Correct Sentiment : 285\n",
      "Sentiment  precision: 0.0304\n",
      "Sentiment  recall: 0.1928\n",
      "Sentiment  F: 0.0525\n"
     ]
    }
   ],
   "source": [
    "hmm = HMM(CN_train)\n",
    "hmm.train_emission()\n",
    "hmm.navie_predict(CN_dev_y, CN_out_2)\n",
    "! python {EVAL_script} {CN_dev_y} {CN_out_2}"
   ]
  },
  {
   "cell_type": "markdown",
   "metadata": {},
   "source": [
    "## Part 3"
   ]
  },
  {
   "cell_type": "markdown",
   "metadata": {},
   "source": [
    "####  <SOS\\> and <EOS\\> are added at the beginning and end of sentence respectively.\n",
    "\n",
    "#### Traverse through each sentence. \n",
    "\n",
    "#### The count is stored in a $(|T|+1)\\times(|T|+1)$ matrix. The rows are initial state and columns are the state trasitted to.\n",
    "\n",
    "#### The probabilities are calculated by dividing each entry with the sum of correspodning row.\n",
    "\n",
    "#### For Viterbi Algorithm, one parent matrix and one score matrix of size $n\\times(|T|+1)$ are implemented\n",
    "\n",
    "#### The optimal path is restored by finding the argmax among $|T|$ tags in previous position\n",
    "\n",
    "#### In our implementation, the code snippet is the same as Part 4 since Part 4 addresses a more general problem.\n",
    "\n",
    "#### To make use of code snippet for Part 4, simply set k=1 for the optimal case"
   ]
  },
  {
   "cell_type": "code",
   "execution_count": 16,
   "metadata": {
    "scrolled": true
   },
   "outputs": [
    {
     "name": "stdout",
     "output_type": "stream",
     "text": [
      "\n",
      "#Entity in gold data: 8408\n",
      "#Entity in prediction: 8475\n",
      "\n",
      "#Correct Entity : 6717\n",
      "Entity  precision: 0.7926\n",
      "Entity  recall: 0.7989\n",
      "Entity  F: 0.7957\n",
      "\n",
      "#Correct Sentiment : 6068\n",
      "Sentiment  precision: 0.7160\n",
      "Sentiment  recall: 0.7217\n",
      "Sentiment  F: 0.7188\n"
     ]
    }
   ],
   "source": [
    "hmm = HMM(AL_train)\n",
    "hmm.train()\n",
    "hmm.predict_top_k(AL_dev_y, AL_out_3, k=1)\n",
    "! python {EVAL_script} {AL_dev_y} {AL_out_3}"
   ]
  },
  {
   "cell_type": "code",
   "execution_count": 17,
   "metadata": {},
   "outputs": [
    {
     "name": "stdout",
     "output_type": "stream",
     "text": [
      "\n",
      "#Entity in gold data: 13179\n",
      "#Entity in prediction: 13398\n",
      "\n",
      "#Correct Entity : 11024\n",
      "Entity  precision: 0.8228\n",
      "Entity  recall: 0.8365\n",
      "Entity  F: 0.8296\n",
      "\n",
      "#Correct Sentiment : 10422\n",
      "Sentiment  precision: 0.7779\n",
      "Sentiment  recall: 0.7908\n",
      "Sentiment  F: 0.7843\n"
     ]
    }
   ],
   "source": [
    "hmm = HMM(EN_train)\n",
    "hmm.train()\n",
    "hmm.predict_top_k(EN_dev_y, EN_out_3, k=1)\n",
    "! python {EVAL_script} {EN_dev_y} {EN_out_3}"
   ]
  },
  {
   "cell_type": "code",
   "execution_count": 18,
   "metadata": {},
   "outputs": [
    {
     "name": "stdout",
     "output_type": "stream",
     "text": [
      "\n",
      "#Entity in gold data: 4537\n",
      "#Entity in prediction: 3007\n",
      "\n",
      "#Correct Entity : 1661\n",
      "Entity  precision: 0.5524\n",
      "Entity  recall: 0.3661\n",
      "Entity  F: 0.4403\n",
      "\n",
      "#Correct Sentiment : 1035\n",
      "Sentiment  precision: 0.3442\n",
      "Sentiment  recall: 0.2281\n",
      "Sentiment  F: 0.2744\n"
     ]
    }
   ],
   "source": [
    "hmm = HMM(SG_train)\n",
    "hmm.train()\n",
    "hmm.predict_top_k(SG_dev_y, SG_out_3, k=1)\n",
    "! python {EVAL_script} {SG_dev_y} {SG_out_3}"
   ]
  },
  {
   "cell_type": "code",
   "execution_count": 19,
   "metadata": {},
   "outputs": [
    {
     "name": "stdout",
     "output_type": "stream",
     "text": [
      "\n",
      "#Entity in gold data: 1478\n",
      "#Entity in prediction: 713\n",
      "\n",
      "#Correct Entity : 307\n",
      "Entity  precision: 0.4306\n",
      "Entity  recall: 0.2077\n",
      "Entity  F: 0.2802\n",
      "\n",
      "#Correct Sentiment : 210\n",
      "Sentiment  precision: 0.2945\n",
      "Sentiment  recall: 0.1421\n",
      "Sentiment  F: 0.1917\n"
     ]
    }
   ],
   "source": [
    "hmm = HMM(CN_train)\n",
    "hmm.train()\n",
    "hmm.predict_top_k(CN_dev_y, CN_out_3, k=1)\n",
    "! python {EVAL_script} {CN_dev_y} {CN_out_3}"
   ]
  },
  {
   "cell_type": "markdown",
   "metadata": {},
   "source": [
    "## Part 4 Top 7th sequences"
   ]
  },
  {
   "cell_type": "markdown",
   "metadata": {},
   "source": [
    "#### Parent 'matrix' and score 'matrix' are implemented as a numpy 3-d array of size $(n+2)\\times(|T|+1)\\times K$.\n",
    "\n",
    "#### The new dimension stores the top K scores and corresponding parent nodes for all positions and tags\n",
    "\n",
    "#### How to backtrack K-th best path:\n",
    "\n",
    "#### Repetition begins: select the parent tags for the first K paths for the <EOS\\> position and identify the parent tag 'T' corresponding to the K-th best path among all $|T|\\times K$ possible paths\n",
    "\n",
    "#### Count the number of apperances of 'T' in the K parent tags for the first K paths.  Call this number ORDER\n",
    "\n",
    "#### Repeat the repetitive steps describe above for one position before, this time select first ORDER instead of K\n",
    "\n",
    "#### Terminate until recovering the entire path"
   ]
  },
  {
   "cell_type": "code",
   "execution_count": null,
   "metadata": {},
   "outputs": [
    {
     "name": "stdout",
     "output_type": "stream",
     "text": [
      "\n",
      "#Entity in gold data: 8408\n",
      "#Entity in prediction: 8583\n",
      "\n",
      "#Correct Entity : 6611\n",
      "Entity  precision: 0.7702\n",
      "Entity  recall: 0.7863\n",
      "Entity  F: 0.7782\n",
      "\n",
      "#Correct Sentiment : 5834\n",
      "Sentiment  precision: 0.6797\n",
      "Sentiment  recall: 0.6939\n",
      "Sentiment  F: 0.6867\n"
     ]
    }
   ],
   "source": [
    "hmm = HMM(AL_train)\n",
    "hmm.train()\n",
    "hmm.predict_top_k(AL_dev_y, AL_out_4, k=7)\n",
    "! python3 {EVAL_script} {AL_dev_y} {AL_out_4}"
   ]
  },
  {
   "cell_type": "code",
   "execution_count": null,
   "metadata": {},
   "outputs": [
    {
     "name": "stdout",
     "output_type": "stream",
     "text": [
      "\n",
      "#Entity in gold data: 13179\n",
      "#Entity in prediction: 12777\n",
      "\n",
      "#Correct Entity : 10789\n",
      "Entity  precision: 0.8444\n",
      "Entity  recall: 0.8187\n",
      "Entity  F: 0.8313\n",
      "\n",
      "#Correct Sentiment : 10375\n",
      "Sentiment  precision: 0.8120\n",
      "Sentiment  recall: 0.7872\n",
      "Sentiment  F: 0.7994\n"
     ]
    }
   ],
   "source": [
    "hmm = HMM(EN_train)\n",
    "hmm.train()\n",
    "hmm.predict_top_k(EN_dev_y, EN_out_4, k=7)\n",
    "! python3 {EVAL_script} {EN_dev_y} {EN_out_4}"
   ]
  }
 ],
 "metadata": {
  "kernelspec": {
   "display_name": "Python 3",
   "language": "python",
   "name": "python3"
  },
  "language_info": {
   "codemirror_mode": {
    "name": "ipython",
    "version": 3
   },
   "file_extension": ".py",
   "mimetype": "text/x-python",
   "name": "python",
   "nbconvert_exporter": "python",
   "pygments_lexer": "ipython3",
   "version": "3.7.3"
  }
 },
 "nbformat": 4,
 "nbformat_minor": 2
}
