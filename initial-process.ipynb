{
 "cells": [
  {
   "cell_type": "code",
   "execution_count": 1,
   "metadata": {},
   "outputs": [],
   "source": [
    "import pandas as pd\n",
    "import numpy as np\n",
    "import os\n",
    "from pathlib import Path"
   ]
  },
  {
   "cell_type": "markdown",
   "metadata": {},
   "source": [
    "### Get data"
   ]
  },
  {
   "cell_type": "code",
   "execution_count": 191,
   "metadata": {},
   "outputs": [],
   "source": [
    "DATA_FOLDER = Path('./dataset/')\n",
    "AL = DATA_FOLDER/'AL'\n",
    "AL_train = AL/'train'\n",
    "AL_dev_x = AL/'dev.in'\n",
    "AL_dev_y = AL/'dev.out'\n",
    "AL_out_2 = AL/'dev.p2.out'\n",
    "AL_out_3 = AL/'dev.p3.out'\n",
    "\n",
    "SG = DATA_FOLDER/'SG'\n",
    "SG_train = SG/'train'\n",
    "SG_dev_x = SG/'dev.in'\n",
    "SG_dev_y = SG/'dev.out'\n",
    "SG_out_2 = SG/'dev.p2.out'\n",
    "SG_out_3 = SG/'dev.p3.out'\n",
    "\n",
    "CN = DATA_FOLDER/'CN'\n",
    "CN_train = CN/'train'\n",
    "CN_dev_x = CN/'dev.in'\n",
    "CN_dev_y = CN/'dev.out'\n",
    "CN_out_2 = CN/'dev.p2.out'\n",
    "CN_out_3 = CN/'dev.p3.out'\n",
    "\n",
    "EN = DATA_FOLDER/'EN'\n",
    "EN_train = EN/'train'\n",
    "EN_dev_x = EN/'dev.in'\n",
    "EN_dev_y = EN/'dev.out'\n",
    "EN_out_2 = EN/'dev.p2.out'\n",
    "EN_out_3 = EN/'dev.p3.out'\n",
    "\n",
    "EVAL_script = './EvalScript/evalResult.py'"
   ]
  },
  {
   "cell_type": "code",
   "execution_count": 3,
   "metadata": {},
   "outputs": [],
   "source": [
    "def get_train_data(filename):\n",
    "    with open(filename) as f:\n",
    "        lines = f.readlines()\n",
    "    x, y = [], []\n",
    "    temp_x, temp_y = [], []\n",
    "    for l in lines:\n",
    "        if len(l) == 1:\n",
    "            assert(len(temp_x) == len(temp_y))\n",
    "            x.append(temp_x)\n",
    "            y.append(temp_y)\n",
    "            temp_x, temp_y = [], []\n",
    "            continue\n",
    "        xx, yy = l.split()\n",
    "        temp_x.append(xx)\n",
    "        temp_y.append(yy)\n",
    "    if len(temp_x) != 0:\n",
    "        x.append(temp_x)\n",
    "        y.append(temp_y)\n",
    "    assert(len(x) == len(y))\n",
    "    \n",
    "    return x, y\n",
    "\n",
    "def get_test_data(filename, word2index):\n",
    "    \"\"\"Return:\n",
    "                x: nested list of string\n",
    "                x_int: nested list of integer\"\"\"\n",
    "    with open(filename) as f:\n",
    "        lines = f.readlines()\n",
    "    x = []\n",
    "    temp_x = []\n",
    "    for l in lines:\n",
    "        if len(l.strip()) == 0:\n",
    "            x.append(temp_x)\n",
    "            temp_x = []\n",
    "            continue\n",
    "        xx = l.split()\n",
    "        temp_x.append(xx[0])\n",
    "    if len(temp_x) != 0:\n",
    "        x.append(temp_x)\n",
    "    x_int = [[word2index[oo] for oo in o] for o in x ]\n",
    "    return x, x_int"
   ]
  },
  {
   "cell_type": "code",
   "execution_count": 4,
   "metadata": {},
   "outputs": [],
   "source": [
    "words, labels = get_train_data(AL_train)\n",
    "vocab = list(set([oo for o in words for oo in o]))\n",
    "tags = list(set([oo for o in labels for oo in o])) + ['SOS', 'EOS']\n",
    "word2index = {o:i for i,o in enumerate(vocab)}\n",
    "index2word = {i:o for i,o in enumerate(vocab)}\n",
    "tag2index = {o:i for i,o in enumerate(tags)}\n",
    "x = [[word2index[oo] for oo in o] for o in words]\n",
    "y = [[tag2index[oo] for oo in o] for o in labels]"
   ]
  },
  {
   "cell_type": "markdown",
   "metadata": {},
   "source": [
    "### part 1 Emission features"
   ]
  },
  {
   "cell_type": "code",
   "execution_count": 5,
   "metadata": {},
   "outputs": [],
   "source": [
    "def emission(x, y, vocab, tags):\n",
    "    emission = np.zeros((len(vocab), len(tags)))\n",
    "    flat_y = [oo for o in y for oo in o]\n",
    "    flat_x = [oo for o in x for oo in o]\n",
    "    for xx, yy in zip(flat_x,flat_y):\n",
    "        emission[xx, yy] += 1\n",
    "    \n",
    "    y_count = np.zeros(len(tags))\n",
    "    for yy in flat_y:\n",
    "        y_count[yy] += 1\n",
    "    emission = emission/ y_count[None, :]\n",
    "    np.nan_to_num(emission, 0)\n",
    "    return emission"
   ]
  },
  {
   "cell_type": "markdown",
   "metadata": {},
   "source": [
    "### Part 2 Adding smoothing parameters"
   ]
  },
  {
   "cell_type": "code",
   "execution_count": 7,
   "metadata": {},
   "outputs": [],
   "source": [
    "from collections import Counter, defaultdict\n",
    "vocab_count = Counter([oo for o in words for oo in o])\n",
    "vocab = [o for o, v in dict(vocab_count).items() if v>=3] + ['#UNK#']\n",
    "word2index = defaultdict(int)\n",
    "for i,o in enumerate(vocab): word2index[o] = i+1\n",
    "x = [ [word2index[oo] for oo in o] for o in words]"
   ]
  },
  {
   "cell_type": "markdown",
   "metadata": {},
   "source": [
    "### Emission decoding"
   ]
  },
  {
   "cell_type": "code",
   "execution_count": 9,
   "metadata": {},
   "outputs": [],
   "source": [
    "def decoding(x, emission_matrix):\n",
    "    \"\"\"emission matrix: (vocab_size, tag_size)\n",
    "    x: converted to integer arrays\"\"\"\n",
    "    return emission_matrix[x].argmax(axis=1)\n",
    "\n",
    "def batch_decoding(output_filename, dev_x_filename, word2index, emission_matrix, tags):\n",
    "    with open(output_filename, 'w') as f:\n",
    "        words, dev_x = get_test_data(dev_x_filename, word2index)\n",
    "        for ws,o in zip(words, dev_x):\n",
    "            path = decoding(o, emission_matrix)\n",
    "            for w, p in zip(ws, path):\n",
    "                f.write(w + ' ' + tags[p] + '\\n')\n",
    "            f.write('\\n')"
   ]
  },
  {
   "cell_type": "markdown",
   "metadata": {},
   "source": [
    "### Grab everythings together"
   ]
  },
  {
   "cell_type": "code",
   "execution_count": 10,
   "metadata": {},
   "outputs": [],
   "source": [
    "def main(train_file, output_filename, dev_x_filename):\n",
    "    # read data\n",
    "    words, labels = get_train_data(train_file)\n",
    "    # create vocab\n",
    "    tags = list(set([oo for o in labels for oo in o])) + ['SOS', 'EOS']\n",
    "    tag2index = {o:i for i,o in enumerate(tags)}\n",
    "    vocab_count = Counter([oo for o in words for oo in o])\n",
    "    vocab = [o for o, v in dict(vocab_count).items() if v>=3] + ['#UNK#']\n",
    "    word2index = defaultdict(int)\n",
    "    for i,o in enumerate(vocab): word2index[o] = i+1\n",
    "    # text to int\n",
    "    x = [[word2index[oo] for oo in o] for o in words]\n",
    "    y = [[tag2index[oo] for oo in o] for o in labels]\n",
    "    # training\n",
    "    emission_matrix = emission(x, y, vocab, tags)\n",
    "    # decoding\n",
    "    batch_decoding(output_filename, dev_x_filename, word2index, emission_matrix, tags)"
   ]
  },
  {
   "cell_type": "markdown",
   "metadata": {},
   "source": [
    "## test model performance"
   ]
  },
  {
   "cell_type": "markdown",
   "metadata": {},
   "source": [
    "##### AL"
   ]
  },
  {
   "cell_type": "code",
   "execution_count": 11,
   "metadata": {},
   "outputs": [
    {
     "name": "stderr",
     "output_type": "stream",
     "text": [
      "/Users/pengfei/miniconda3/lib/python3.7/site-packages/ipykernel_launcher.py:11: RuntimeWarning: divide by zero encountered in true_divide\n",
      "  # This is added back by InteractiveShellApp.init_path()\n",
      "/Users/pengfei/miniconda3/lib/python3.7/site-packages/ipykernel_launcher.py:11: RuntimeWarning: invalid value encountered in true_divide\n",
      "  # This is added back by InteractiveShellApp.init_path()\n"
     ]
    },
    {
     "name": "stdout",
     "output_type": "stream",
     "text": [
      "\r\n",
      "#Entity in gold data: 8408\r\n",
      "#Entity in prediction: 19484\r\n",
      "\r\n",
      "#Correct Entity : 2898\r\n",
      "Entity  precision: 0.1487\r\n",
      "Entity  recall: 0.3447\r\n",
      "Entity  F: 0.2078\r\n",
      "\r\n",
      "#Correct Sentiment : 2457\r\n",
      "Sentiment  precision: 0.1261\r\n",
      "Sentiment  recall: 0.2922\r\n",
      "Sentiment  F: 0.1762\r\n"
     ]
    }
   ],
   "source": [
    "main(AL_train, AL_out_2, AL_dev_x)\n",
    "! python {EVAL_script} {AL_dev_y} {AL_out_2}"
   ]
  },
  {
   "cell_type": "markdown",
   "metadata": {},
   "source": [
    "#### SG"
   ]
  },
  {
   "cell_type": "code",
   "execution_count": 12,
   "metadata": {},
   "outputs": [
    {
     "name": "stderr",
     "output_type": "stream",
     "text": [
      "/Users/pengfei/miniconda3/lib/python3.7/site-packages/ipykernel_launcher.py:11: RuntimeWarning: divide by zero encountered in true_divide\n",
      "  # This is added back by InteractiveShellApp.init_path()\n",
      "/Users/pengfei/miniconda3/lib/python3.7/site-packages/ipykernel_launcher.py:11: RuntimeWarning: invalid value encountered in true_divide\n",
      "  # This is added back by InteractiveShellApp.init_path()\n"
     ]
    },
    {
     "name": "stdout",
     "output_type": "stream",
     "text": [
      "\r\n",
      "#Entity in gold data: 4537\r\n",
      "#Entity in prediction: 18451\r\n",
      "\r\n",
      "#Correct Entity : 2632\r\n",
      "Entity  precision: 0.1426\r\n",
      "Entity  recall: 0.5801\r\n",
      "Entity  F: 0.2290\r\n",
      "\r\n",
      "#Correct Sentiment : 1239\r\n",
      "Sentiment  precision: 0.0672\r\n",
      "Sentiment  recall: 0.2731\r\n",
      "Sentiment  F: 0.1078\r\n"
     ]
    }
   ],
   "source": [
    "main(SG_train, SG_out_2, SG_dev_x)\n",
    "! python {EVAL_script} {SG_dev_y} {SG_out_2}"
   ]
  },
  {
   "cell_type": "markdown",
   "metadata": {},
   "source": [
    "#### EN"
   ]
  },
  {
   "cell_type": "code",
   "execution_count": 13,
   "metadata": {},
   "outputs": [
    {
     "name": "stderr",
     "output_type": "stream",
     "text": [
      "/Users/pengfei/miniconda3/lib/python3.7/site-packages/ipykernel_launcher.py:11: RuntimeWarning: divide by zero encountered in true_divide\n",
      "  # This is added back by InteractiveShellApp.init_path()\n",
      "/Users/pengfei/miniconda3/lib/python3.7/site-packages/ipykernel_launcher.py:11: RuntimeWarning: invalid value encountered in true_divide\n",
      "  # This is added back by InteractiveShellApp.init_path()\n"
     ]
    },
    {
     "name": "stdout",
     "output_type": "stream",
     "text": [
      "\r\n",
      "#Entity in gold data: 13179\r\n",
      "#Entity in prediction: 19406\r\n",
      "\r\n",
      "#Correct Entity : 9152\r\n",
      "Entity  precision: 0.4716\r\n",
      "Entity  recall: 0.6944\r\n",
      "Entity  F: 0.5617\r\n",
      "\r\n",
      "#Correct Sentiment : 7644\r\n",
      "Sentiment  precision: 0.3939\r\n",
      "Sentiment  recall: 0.5800\r\n",
      "Sentiment  F: 0.4692\r\n"
     ]
    }
   ],
   "source": [
    "main(EN_train, EN_out_2, EN_dev_x)\n",
    "! python {EVAL_script} {EN_dev_y} {EN_out_2}"
   ]
  },
  {
   "cell_type": "markdown",
   "metadata": {},
   "source": [
    "#### CN"
   ]
  },
  {
   "cell_type": "code",
   "execution_count": 14,
   "metadata": {},
   "outputs": [
    {
     "name": "stdout",
     "output_type": "stream",
     "text": [
      "\r\n",
      "#Entity in gold data: 1478\r\n",
      "#Entity in prediction: 9373\r\n",
      "\r\n",
      "#Correct Entity : 765\r\n",
      "Entity  precision: 0.0816\r\n",
      "Entity  recall: 0.5176\r\n",
      "Entity  F: 0.1410\r\n",
      "\r\n",
      "#Correct Sentiment : 285\r\n",
      "Sentiment  precision: 0.0304\r\n",
      "Sentiment  recall: 0.1928\r\n",
      "Sentiment  F: 0.0525\r\n"
     ]
    },
    {
     "name": "stderr",
     "output_type": "stream",
     "text": [
      "/Users/pengfei/miniconda3/lib/python3.7/site-packages/ipykernel_launcher.py:11: RuntimeWarning: divide by zero encountered in true_divide\n",
      "  # This is added back by InteractiveShellApp.init_path()\n",
      "/Users/pengfei/miniconda3/lib/python3.7/site-packages/ipykernel_launcher.py:11: RuntimeWarning: invalid value encountered in true_divide\n",
      "  # This is added back by InteractiveShellApp.init_path()\n"
     ]
    }
   ],
   "source": [
    "main(CN_train, CN_out_2, CN_dev_x)\n",
    "! python {EVAL_script} {CN_dev_y} {CN_out_2}"
   ]
  },
  {
   "cell_type": "markdown",
   "metadata": {},
   "source": [
    "## Part 3"
   ]
  },
  {
   "cell_type": "markdown",
   "metadata": {},
   "source": [
    "### Transition"
   ]
  },
  {
   "cell_type": "code",
   "execution_count": 18,
   "metadata": {},
   "outputs": [
    {
     "name": "stdout",
     "output_type": "stream",
     "text": [
      "transition_matrix shape (transition_from, transition_to):  (44, 44)\n"
     ]
    },
    {
     "name": "stderr",
     "output_type": "stream",
     "text": [
      "/Users/pengfei/miniconda3/lib/python3.7/site-packages/ipykernel_launcher.py:13: RuntimeWarning: divide by zero encountered in true_divide\n",
      "  del sys.path[0]\n",
      "/Users/pengfei/miniconda3/lib/python3.7/site-packages/ipykernel_launcher.py:13: RuntimeWarning: invalid value encountered in true_divide\n",
      "  del sys.path[0]\n"
     ]
    }
   ],
   "source": [
    "def transition(y):\n",
    "    SOS = tag2index['SOS']\n",
    "    EOS = tag2index['EOS']\n",
    "    y = [[SOS]+o+[EOS] for o in y]\n",
    "    transition = np.zeros((len(tags), len(tags)))\n",
    "    \n",
    "    for yy in y:\n",
    "        for i in range(len(yy)-1):\n",
    "            start = yy[i]\n",
    "            end = yy[i+1]\n",
    "            transition[start, end] += 1\n",
    "    \n",
    "    transition = transition/np.sum(transition, axis=1)\n",
    "    np.nan_to_num(transition, 0)\n",
    "    return transition\n",
    "transition_matrix = transition(y)\n",
    "print(\"transition_matrix shape (transition_from, transition_to): \", transition_matrix.shape)"
   ]
  },
  {
   "cell_type": "markdown",
   "metadata": {},
   "source": [
    "### viterbi decode"
   ]
  },
  {
   "cell_type": "code",
   "execution_count": 23,
   "metadata": {},
   "outputs": [
    {
     "name": "stderr",
     "output_type": "stream",
     "text": [
      "/Users/pengfei/miniconda3/lib/python3.7/site-packages/ipykernel_launcher.py:13: RuntimeWarning: divide by zero encountered in true_divide\n",
      "  del sys.path[0]\n",
      "/Users/pengfei/miniconda3/lib/python3.7/site-packages/ipykernel_launcher.py:13: RuntimeWarning: invalid value encountered in true_divide\n",
      "  del sys.path[0]\n",
      "/Users/pengfei/miniconda3/lib/python3.7/site-packages/ipykernel_launcher.py:11: RuntimeWarning: divide by zero encountered in true_divide\n",
      "  # This is added back by InteractiveShellApp.init_path()\n",
      "/Users/pengfei/miniconda3/lib/python3.7/site-packages/ipykernel_launcher.py:11: RuntimeWarning: invalid value encountered in true_divide\n",
      "  # This is added back by InteractiveShellApp.init_path()\n"
     ]
    }
   ],
   "source": [
    "transition_matrix = transition(y)\n",
    "emission_matrix = emission(x, y, vocab, tags)"
   ]
  },
  {
   "cell_type": "code",
   "execution_count": 199,
   "metadata": {},
   "outputs": [],
   "source": [
    "def viterbi_score(x, transition_matrix, emission_matrix, sos_index):\n",
    "    \"\"\"transition_matrix: before log\n",
    "    transition: after log\n",
    "    score: shape()\"\"\"\n",
    "    # correct way of initialization\n",
    "    score = np.zeros( (len(x)+2, len(tags)) )\n",
    "    score[0, :] = -np.inf\n",
    "    score[0, sos_index] = 0\n",
    "    \n",
    "    argmax = np.zeros( (len(x)+1, len(tags)), dtype=np.int64)\n",
    "    transition, emission = np.log(transition_matrix), np.log(emission_matrix)\n",
    "    for step in range(1, len(score)):\n",
    "        for state in range(len(score[step])):\n",
    "            previous_score = score[step-1]\n",
    "            t_score = transition[:, state]\n",
    "            if step-1==len(x):\n",
    "                score[step, state] = np.max(previous_score + t_score)\n",
    "            else:\n",
    "                x_word_index = x[step-1]\n",
    "                e_score = emission[x_word_index, state]\n",
    "                score[step, state] = np.max(previous_score + t_score) + e_score\n",
    "            argmax[step-1, state] = np.argmax(previous_score + t_score)\n",
    "    return score[1:,:], argmax\n",
    "\n",
    "def viterbi_decode_path(argmax, eos_index):\n",
    "    \"\"\"\n",
    "    argmax: (len(x)+1, #tags)\n",
    "    eos_Index: EOS tag index in tags\n",
    "    Returns:\n",
    "            path: (len(x), )\"\"\"\n",
    "    path = []\n",
    "    temp_arg = eos_index\n",
    "    for i in range(len(argmax)-1, -1, -1):\n",
    "        temp_arg = argmax[i, temp_arg]\n",
    "        path.append(temp_arg)\n",
    "    return path\n",
    "\n",
    "def viterbi(x, transition_matrix, emission_matrix, sos_index, eos_index):\n",
    "    \"\"\"\n",
    "    x: list of int\n",
    "    transition_matrix: (#tags(with eos,sos), #tags(with eos,sos))\n",
    "    emission_matrix: (#vocab_size,#tags(with eos,sos) )\"\"\"\n",
    "    score, argmax = viterbi_score(x, transition_matrix, emission_matrix, sos_index)\n",
    "    path = viterbi_decode_path(argmax, eos_index)\n",
    "    return path[:-1][::-1]\n",
    "\n",
    "def viterbi_decode_batch(x, transition_matrix, emission_matrix, sos_index, eos_index, \n",
    "                         output_filename, dev_x_filename, word2index, tags):\n",
    "    with open(output_filename, 'w') as f:\n",
    "        words, dev_x = get_test_data(dev_x_filename, word2index)\n",
    "        for i, (ws,o) in enumerate(zip(words, dev_x)):\n",
    "            print(i)\n",
    "            path = viterbi(o, transition_matrix, emission_matrix, sos_index, eos_index)\n",
    "            for w, p in zip(ws, path):\n",
    "                f.write(w + ' ' + tags[p] + '\\n')\n",
    "            f.write('\\n')   \n",
    "    return "
   ]
  },
  {
   "cell_type": "code",
   "execution_count": 180,
   "metadata": {},
   "outputs": [
    {
     "name": "stderr",
     "output_type": "stream",
     "text": [
      "/Users/pengfei/miniconda3/lib/python3.7/site-packages/ipykernel_launcher.py:11: RuntimeWarning: divide by zero encountered in log\n",
      "  # This is added back by InteractiveShellApp.init_path()\n"
     ]
    }
   ],
   "source": [
    "path = viterbi(x[0], transition_matrix, emission_matrix,  tags.index('SOS'), tags.index('EOS'),)"
   ]
  },
  {
   "cell_type": "markdown",
   "metadata": {},
   "source": [
    "#### Grab everything together"
   ]
  },
  {
   "cell_type": "code",
   "execution_count": 200,
   "metadata": {},
   "outputs": [],
   "source": [
    "\n",
    "\n",
    "def main(train_file, output_filename, dev_x_filename):\n",
    "    # read data\n",
    "    words, labels = get_train_data(train_file)\n",
    "    # create vocab\n",
    "    tags = list(set([oo for o in labels for oo in o])) + ['SOS', 'EOS']\n",
    "    tag2index = {o:i for i,o in enumerate(tags)}\n",
    "    vocab_count = Counter([oo for o in words for oo in o])\n",
    "    vocab = [o for o, v in dict(vocab_count).items() if v>=3] + ['#UNK#']\n",
    "    word2index = defaultdict(int)\n",
    "    for i,o in enumerate(vocab): word2index[o] = i+1\n",
    "    # text to int\n",
    "    x = [[word2index[oo] for oo in o] for o in words]\n",
    "    y = [[tag2index[oo] for oo in o] for o in labels]\n",
    "    # training emission\n",
    "    emission_matrix = emission(x, y, vocab, tags)\n",
    "    # training transition\n",
    "    transition_matrix = transition(y)\n",
    "    # decoding\n",
    "    viterbi_decode_batch(x, transition_matrix, emission_matrix,  tags.index('SOS'), tags.index('EOS'), \n",
    "                         output_filename, dev_x_filename, word2index, tags)"
   ]
  },
  {
   "cell_type": "markdown",
   "metadata": {},
   "source": [
    "## Test model performance"
   ]
  },
  {
   "cell_type": "code",
   "execution_count": 202,
   "metadata": {},
   "outputs": [
    {
     "name": "stderr",
     "output_type": "stream",
     "text": [
      "/Users/pengfei/miniconda3/lib/python3.7/site-packages/ipykernel_launcher.py:11: RuntimeWarning: divide by zero encountered in true_divide\n",
      "  # This is added back by InteractiveShellApp.init_path()\n",
      "/Users/pengfei/miniconda3/lib/python3.7/site-packages/ipykernel_launcher.py:11: RuntimeWarning: invalid value encountered in true_divide\n",
      "  # This is added back by InteractiveShellApp.init_path()\n",
      "/Users/pengfei/miniconda3/lib/python3.7/site-packages/ipykernel_launcher.py:13: RuntimeWarning: divide by zero encountered in true_divide\n",
      "  del sys.path[0]\n",
      "/Users/pengfei/miniconda3/lib/python3.7/site-packages/ipykernel_launcher.py:13: RuntimeWarning: invalid value encountered in true_divide\n",
      "  del sys.path[0]\n",
      "/Users/pengfei/miniconda3/lib/python3.7/site-packages/ipykernel_launcher.py:11: RuntimeWarning: divide by zero encountered in log\n",
      "  # This is added back by InteractiveShellApp.init_path()\n"
     ]
    },
    {
     "name": "stdout",
     "output_type": "stream",
     "text": [
      "\r\n",
      "#Entity in gold data: 8408\r\n",
      "#Entity in prediction: 8619\r\n",
      "\r\n",
      "#Correct Entity : 6689\r\n",
      "Entity  precision: 0.7761\r\n",
      "Entity  recall: 0.7956\r\n",
      "Entity  F: 0.7857\r\n",
      "\r\n",
      "#Correct Sentiment : 5972\r\n",
      "Sentiment  precision: 0.6929\r\n",
      "Sentiment  recall: 0.7103\r\n",
      "Sentiment  F: 0.7015\r\n"
     ]
    }
   ],
   "source": [
    "main(AL_train, AL_out_3, AL_dev_x)\n",
    "! python {EVAL_script} {AL_dev_y} {AL_out_3}"
   ]
  },
  {
   "cell_type": "code",
   "execution_count": 198,
   "metadata": {},
   "outputs": [
    {
     "name": "stdout",
     "output_type": "stream",
     "text": [
      "10733 9\n"
     ]
    },
    {
     "name": "stderr",
     "output_type": "stream",
     "text": [
      "/Users/pengfei/miniconda3/lib/python3.7/site-packages/ipykernel_launcher.py:11: RuntimeWarning: divide by zero encountered in true_divide\n",
      "  # This is added back by InteractiveShellApp.init_path()\n",
      "/Users/pengfei/miniconda3/lib/python3.7/site-packages/ipykernel_launcher.py:11: RuntimeWarning: invalid value encountered in true_divide\n",
      "  # This is added back by InteractiveShellApp.init_path()\n",
      "/Users/pengfei/miniconda3/lib/python3.7/site-packages/ipykernel_launcher.py:13: RuntimeWarning: divide by zero encountered in true_divide\n",
      "  del sys.path[0]\n",
      "/Users/pengfei/miniconda3/lib/python3.7/site-packages/ipykernel_launcher.py:13: RuntimeWarning: invalid value encountered in true_divide\n",
      "  del sys.path[0]\n",
      "/Users/pengfei/miniconda3/lib/python3.7/site-packages/ipykernel_launcher.py:11: RuntimeWarning: divide by zero encountered in log\n",
      "  # This is added back by InteractiveShellApp.init_path()\n"
     ]
    },
    {
     "ename": "IndexError",
     "evalue": "index 9 is out of bounds for axis 1 with size 9",
     "output_type": "error",
     "traceback": [
      "\u001b[0;31m---------------------------------------------------------------------------\u001b[0m",
      "\u001b[0;31mIndexError\u001b[0m                                Traceback (most recent call last)",
      "\u001b[0;32m<ipython-input-198-88068f578715>\u001b[0m in \u001b[0;36m<module>\u001b[0;34m\u001b[0m\n\u001b[0;32m----> 1\u001b[0;31m \u001b[0mmain\u001b[0m\u001b[0;34m(\u001b[0m\u001b[0mSG_train\u001b[0m\u001b[0;34m,\u001b[0m \u001b[0mSG_out_3\u001b[0m\u001b[0;34m,\u001b[0m \u001b[0mSG_dev_x\u001b[0m\u001b[0;34m)\u001b[0m\u001b[0;34m\u001b[0m\u001b[0;34m\u001b[0m\u001b[0m\n\u001b[0m\u001b[1;32m      2\u001b[0m \u001b[0mget_ipython\u001b[0m\u001b[0;34m(\u001b[0m\u001b[0;34m)\u001b[0m\u001b[0;34m.\u001b[0m\u001b[0msystem\u001b[0m\u001b[0;34m(\u001b[0m\u001b[0;34m' python {EVAL_script} {SG_dev_y} {SG_out_3}'\u001b[0m\u001b[0;34m)\u001b[0m\u001b[0;34m\u001b[0m\u001b[0;34m\u001b[0m\u001b[0m\n",
      "\u001b[0;32m<ipython-input-196-aa9d6bf45398>\u001b[0m in \u001b[0;36mmain\u001b[0;34m(train_file, output_filename, dev_x_filename)\u001b[0m\n\u001b[1;32m     29\u001b[0m     \u001b[0;31m# decoding\u001b[0m\u001b[0;34m\u001b[0m\u001b[0;34m\u001b[0m\u001b[0;34m\u001b[0m\u001b[0m\n\u001b[1;32m     30\u001b[0m     viterbi_decode_batch(x, transition_matrix, emission_matrix,  tags.index('SOS'), tags.index('EOS'), \n\u001b[0;32m---> 31\u001b[0;31m                          output_filename, dev_x_filename, word2index, tags)\n\u001b[0m",
      "\u001b[0;32m<ipython-input-196-aa9d6bf45398>\u001b[0m in \u001b[0;36mviterbi_decode_batch\u001b[0;34m(x, transition_matrix, emission_matrix, sos_index, eos_index, output_filename, dev_x_filename, word2index, tags)\u001b[0m\n\u001b[1;32m      4\u001b[0m         \u001b[0mwords\u001b[0m\u001b[0;34m,\u001b[0m \u001b[0mdev_x\u001b[0m \u001b[0;34m=\u001b[0m \u001b[0mget_test_data\u001b[0m\u001b[0;34m(\u001b[0m\u001b[0mdev_x_filename\u001b[0m\u001b[0;34m,\u001b[0m \u001b[0mword2index\u001b[0m\u001b[0;34m)\u001b[0m\u001b[0;34m\u001b[0m\u001b[0;34m\u001b[0m\u001b[0m\n\u001b[1;32m      5\u001b[0m         \u001b[0;32mfor\u001b[0m \u001b[0mws\u001b[0m\u001b[0;34m,\u001b[0m\u001b[0mo\u001b[0m \u001b[0;32min\u001b[0m \u001b[0mzip\u001b[0m\u001b[0;34m(\u001b[0m\u001b[0mwords\u001b[0m\u001b[0;34m,\u001b[0m \u001b[0mdev_x\u001b[0m\u001b[0;34m)\u001b[0m\u001b[0;34m:\u001b[0m\u001b[0;34m\u001b[0m\u001b[0;34m\u001b[0m\u001b[0m\n\u001b[0;32m----> 6\u001b[0;31m             \u001b[0mpath\u001b[0m \u001b[0;34m=\u001b[0m \u001b[0mviterbi\u001b[0m\u001b[0;34m(\u001b[0m\u001b[0mo\u001b[0m\u001b[0;34m,\u001b[0m \u001b[0mtransition_matrix\u001b[0m\u001b[0;34m,\u001b[0m \u001b[0memission_matrix\u001b[0m\u001b[0;34m,\u001b[0m \u001b[0msos_index\u001b[0m\u001b[0;34m,\u001b[0m \u001b[0meos_index\u001b[0m\u001b[0;34m)\u001b[0m\u001b[0;34m\u001b[0m\u001b[0;34m\u001b[0m\u001b[0m\n\u001b[0m\u001b[1;32m      7\u001b[0m             \u001b[0;32mfor\u001b[0m \u001b[0mw\u001b[0m\u001b[0;34m,\u001b[0m \u001b[0mp\u001b[0m \u001b[0;32min\u001b[0m \u001b[0mzip\u001b[0m\u001b[0;34m(\u001b[0m\u001b[0mws\u001b[0m\u001b[0;34m,\u001b[0m \u001b[0mpath\u001b[0m\u001b[0;34m)\u001b[0m\u001b[0;34m:\u001b[0m\u001b[0;34m\u001b[0m\u001b[0;34m\u001b[0m\u001b[0m\n\u001b[1;32m      8\u001b[0m                 \u001b[0mf\u001b[0m\u001b[0;34m.\u001b[0m\u001b[0mwrite\u001b[0m\u001b[0;34m(\u001b[0m\u001b[0mw\u001b[0m \u001b[0;34m+\u001b[0m \u001b[0;34m' '\u001b[0m \u001b[0;34m+\u001b[0m \u001b[0mtags\u001b[0m\u001b[0;34m[\u001b[0m\u001b[0mp\u001b[0m\u001b[0;34m]\u001b[0m \u001b[0;34m+\u001b[0m \u001b[0;34m'\\n'\u001b[0m\u001b[0;34m)\u001b[0m\u001b[0;34m\u001b[0m\u001b[0;34m\u001b[0m\u001b[0m\n",
      "\u001b[0;32m<ipython-input-179-a5ebd6ec72cd>\u001b[0m in \u001b[0;36mviterbi\u001b[0;34m(x, transition_matrix, emission_matrix, sos_index, eos_index)\u001b[0m\n\u001b[1;32m     37\u001b[0m \u001b[0;34m\u001b[0m\u001b[0m\n\u001b[1;32m     38\u001b[0m \u001b[0;32mdef\u001b[0m \u001b[0mviterbi\u001b[0m\u001b[0;34m(\u001b[0m\u001b[0mx\u001b[0m\u001b[0;34m,\u001b[0m \u001b[0mtransition_matrix\u001b[0m\u001b[0;34m,\u001b[0m \u001b[0memission_matrix\u001b[0m\u001b[0;34m,\u001b[0m \u001b[0msos_index\u001b[0m\u001b[0;34m,\u001b[0m \u001b[0meos_index\u001b[0m\u001b[0;34m)\u001b[0m\u001b[0;34m:\u001b[0m\u001b[0;34m\u001b[0m\u001b[0;34m\u001b[0m\u001b[0m\n\u001b[0;32m---> 39\u001b[0;31m     \u001b[0mscore\u001b[0m\u001b[0;34m,\u001b[0m \u001b[0margmax\u001b[0m \u001b[0;34m=\u001b[0m \u001b[0mviterbi_score\u001b[0m\u001b[0;34m(\u001b[0m\u001b[0mx\u001b[0m\u001b[0;34m,\u001b[0m \u001b[0mtransition_matrix\u001b[0m\u001b[0;34m,\u001b[0m \u001b[0memission_matrix\u001b[0m\u001b[0;34m,\u001b[0m \u001b[0msos_index\u001b[0m\u001b[0;34m)\u001b[0m\u001b[0;34m\u001b[0m\u001b[0;34m\u001b[0m\u001b[0m\n\u001b[0m\u001b[1;32m     40\u001b[0m     \u001b[0mpath\u001b[0m \u001b[0;34m=\u001b[0m \u001b[0mviterbi_decode_path\u001b[0m\u001b[0;34m(\u001b[0m\u001b[0margmax\u001b[0m\u001b[0;34m,\u001b[0m \u001b[0meos_index\u001b[0m\u001b[0;34m)\u001b[0m\u001b[0;34m\u001b[0m\u001b[0;34m\u001b[0m\u001b[0m\n\u001b[1;32m     41\u001b[0m     \u001b[0;32mreturn\u001b[0m \u001b[0mpath\u001b[0m\u001b[0;34m[\u001b[0m\u001b[0;34m:\u001b[0m\u001b[0;34m-\u001b[0m\u001b[0;36m1\u001b[0m\u001b[0;34m]\u001b[0m\u001b[0;34m[\u001b[0m\u001b[0;34m:\u001b[0m\u001b[0;34m:\u001b[0m\u001b[0;34m-\u001b[0m\u001b[0;36m1\u001b[0m\u001b[0;34m]\u001b[0m\u001b[0;34m\u001b[0m\u001b[0;34m\u001b[0m\u001b[0m\n",
      "\u001b[0;32m<ipython-input-179-a5ebd6ec72cd>\u001b[0m in \u001b[0;36mviterbi_score\u001b[0;34m(x, transition_matrix, emission_matrix, sos_index)\u001b[0m\n\u001b[1;32m     18\u001b[0m             \u001b[0;32melse\u001b[0m\u001b[0;34m:\u001b[0m\u001b[0;34m\u001b[0m\u001b[0;34m\u001b[0m\u001b[0m\n\u001b[1;32m     19\u001b[0m                 \u001b[0mx_word_index\u001b[0m \u001b[0;34m=\u001b[0m \u001b[0mx\u001b[0m\u001b[0;34m[\u001b[0m\u001b[0mstep\u001b[0m\u001b[0;34m-\u001b[0m\u001b[0;36m1\u001b[0m\u001b[0;34m]\u001b[0m\u001b[0;34m\u001b[0m\u001b[0;34m\u001b[0m\u001b[0m\n\u001b[0;32m---> 20\u001b[0;31m                 \u001b[0me_score\u001b[0m \u001b[0;34m=\u001b[0m \u001b[0memission\u001b[0m\u001b[0;34m[\u001b[0m\u001b[0mx_word_index\u001b[0m\u001b[0;34m,\u001b[0m \u001b[0mstate\u001b[0m\u001b[0;34m]\u001b[0m\u001b[0;34m\u001b[0m\u001b[0;34m\u001b[0m\u001b[0m\n\u001b[0m\u001b[1;32m     21\u001b[0m                 \u001b[0mscore\u001b[0m\u001b[0;34m[\u001b[0m\u001b[0mstep\u001b[0m\u001b[0;34m,\u001b[0m \u001b[0mstate\u001b[0m\u001b[0;34m]\u001b[0m \u001b[0;34m=\u001b[0m \u001b[0mnp\u001b[0m\u001b[0;34m.\u001b[0m\u001b[0mmax\u001b[0m\u001b[0;34m(\u001b[0m\u001b[0mprevious_score\u001b[0m \u001b[0;34m+\u001b[0m \u001b[0mt_score\u001b[0m\u001b[0;34m)\u001b[0m \u001b[0;34m+\u001b[0m \u001b[0me_score\u001b[0m\u001b[0;34m\u001b[0m\u001b[0;34m\u001b[0m\u001b[0m\n\u001b[1;32m     22\u001b[0m             \u001b[0margmax\u001b[0m\u001b[0;34m[\u001b[0m\u001b[0mstep\u001b[0m\u001b[0;34m-\u001b[0m\u001b[0;36m1\u001b[0m\u001b[0;34m,\u001b[0m \u001b[0mstate\u001b[0m\u001b[0;34m]\u001b[0m \u001b[0;34m=\u001b[0m \u001b[0mnp\u001b[0m\u001b[0;34m.\u001b[0m\u001b[0margmax\u001b[0m\u001b[0;34m(\u001b[0m\u001b[0mprevious_score\u001b[0m\u001b[0;34m+\u001b[0m\u001b[0mt_score\u001b[0m\u001b[0;34m)\u001b[0m\u001b[0;34m\u001b[0m\u001b[0;34m\u001b[0m\u001b[0m\n",
      "\u001b[0;31mIndexError\u001b[0m: index 9 is out of bounds for axis 1 with size 9"
     ]
    }
   ],
   "source": [
    "main(SG_train, SG_out_3, SG_dev_x)\n",
    "! python {EVAL_script} {SG_dev_y} {SG_out_3}"
   ]
  },
  {
   "cell_type": "code",
   "execution_count": 201,
   "metadata": {},
   "outputs": [
    {
     "name": "stderr",
     "output_type": "stream",
     "text": [
      "/Users/pengfei/miniconda3/lib/python3.7/site-packages/ipykernel_launcher.py:11: RuntimeWarning: divide by zero encountered in true_divide\n",
      "  # This is added back by InteractiveShellApp.init_path()\n",
      "/Users/pengfei/miniconda3/lib/python3.7/site-packages/ipykernel_launcher.py:11: RuntimeWarning: invalid value encountered in true_divide\n",
      "  # This is added back by InteractiveShellApp.init_path()\n",
      "/Users/pengfei/miniconda3/lib/python3.7/site-packages/ipykernel_launcher.py:13: RuntimeWarning: divide by zero encountered in true_divide\n",
      "  del sys.path[0]\n",
      "/Users/pengfei/miniconda3/lib/python3.7/site-packages/ipykernel_launcher.py:13: RuntimeWarning: invalid value encountered in true_divide\n",
      "  del sys.path[0]\n",
      "/Users/pengfei/miniconda3/lib/python3.7/site-packages/ipykernel_launcher.py:11: RuntimeWarning: divide by zero encountered in log\n",
      "  # This is added back by InteractiveShellApp.init_path()\n"
     ]
    },
    {
     "ename": "IndexError",
     "evalue": "index 23 is out of bounds for axis 1 with size 23",
     "output_type": "error",
     "traceback": [
      "\u001b[0;31m---------------------------------------------------------------------------\u001b[0m",
      "\u001b[0;31mIndexError\u001b[0m                                Traceback (most recent call last)",
      "\u001b[0;32m<ipython-input-201-73a9fbb406e9>\u001b[0m in \u001b[0;36m<module>\u001b[0;34m\u001b[0m\n\u001b[0;32m----> 1\u001b[0;31m \u001b[0mmain\u001b[0m\u001b[0;34m(\u001b[0m\u001b[0mEN_train\u001b[0m\u001b[0;34m,\u001b[0m \u001b[0mEN_out_2\u001b[0m\u001b[0;34m,\u001b[0m \u001b[0mEN_dev_x\u001b[0m\u001b[0;34m)\u001b[0m\u001b[0;34m\u001b[0m\u001b[0;34m\u001b[0m\u001b[0m\n\u001b[0m\u001b[1;32m      2\u001b[0m \u001b[0mget_ipython\u001b[0m\u001b[0;34m(\u001b[0m\u001b[0;34m)\u001b[0m\u001b[0;34m.\u001b[0m\u001b[0msystem\u001b[0m\u001b[0;34m(\u001b[0m\u001b[0;34m' python {EVAL_script} {EN_dev_y} {EN_out_2}'\u001b[0m\u001b[0;34m)\u001b[0m\u001b[0;34m\u001b[0m\u001b[0;34m\u001b[0m\u001b[0m\n",
      "\u001b[0;32m<ipython-input-200-eab1b0eb9bec>\u001b[0m in \u001b[0;36mmain\u001b[0;34m(train_file, output_filename, dev_x_filename)\u001b[0m\n\u001b[1;32m     18\u001b[0m     \u001b[0;31m# decoding\u001b[0m\u001b[0;34m\u001b[0m\u001b[0;34m\u001b[0m\u001b[0;34m\u001b[0m\u001b[0m\n\u001b[1;32m     19\u001b[0m     viterbi_decode_batch(x, transition_matrix, emission_matrix,  tags.index('SOS'), tags.index('EOS'), \n\u001b[0;32m---> 20\u001b[0;31m                          output_filename, dev_x_filename, word2index, tags)\n\u001b[0m",
      "\u001b[0;32m<ipython-input-199-e8448173a48e>\u001b[0m in \u001b[0;36mviterbi_decode_batch\u001b[0;34m(x, transition_matrix, emission_matrix, sos_index, eos_index, output_filename, dev_x_filename, word2index, tags)\u001b[0m\n\u001b[1;32m     50\u001b[0m         \u001b[0mwords\u001b[0m\u001b[0;34m,\u001b[0m \u001b[0mdev_x\u001b[0m \u001b[0;34m=\u001b[0m \u001b[0mget_test_data\u001b[0m\u001b[0;34m(\u001b[0m\u001b[0mdev_x_filename\u001b[0m\u001b[0;34m,\u001b[0m \u001b[0mword2index\u001b[0m\u001b[0;34m)\u001b[0m\u001b[0;34m\u001b[0m\u001b[0;34m\u001b[0m\u001b[0m\n\u001b[1;32m     51\u001b[0m         \u001b[0;32mfor\u001b[0m \u001b[0mi\u001b[0m\u001b[0;34m,\u001b[0m \u001b[0;34m(\u001b[0m\u001b[0mws\u001b[0m\u001b[0;34m,\u001b[0m\u001b[0mo\u001b[0m\u001b[0;34m)\u001b[0m \u001b[0;32min\u001b[0m \u001b[0menumerate\u001b[0m\u001b[0;34m(\u001b[0m\u001b[0mzip\u001b[0m\u001b[0;34m(\u001b[0m\u001b[0mwords\u001b[0m\u001b[0;34m,\u001b[0m \u001b[0mdev_x\u001b[0m\u001b[0;34m)\u001b[0m\u001b[0;34m)\u001b[0m\u001b[0;34m:\u001b[0m\u001b[0;34m\u001b[0m\u001b[0;34m\u001b[0m\u001b[0m\n\u001b[0;32m---> 52\u001b[0;31m             \u001b[0mpath\u001b[0m \u001b[0;34m=\u001b[0m \u001b[0mviterbi\u001b[0m\u001b[0;34m(\u001b[0m\u001b[0mo\u001b[0m\u001b[0;34m,\u001b[0m \u001b[0mtransition_matrix\u001b[0m\u001b[0;34m,\u001b[0m \u001b[0memission_matrix\u001b[0m\u001b[0;34m,\u001b[0m \u001b[0msos_index\u001b[0m\u001b[0;34m,\u001b[0m \u001b[0meos_index\u001b[0m\u001b[0;34m)\u001b[0m\u001b[0;34m\u001b[0m\u001b[0;34m\u001b[0m\u001b[0m\n\u001b[0m\u001b[1;32m     53\u001b[0m             \u001b[0;32mfor\u001b[0m \u001b[0mw\u001b[0m\u001b[0;34m,\u001b[0m \u001b[0mp\u001b[0m \u001b[0;32min\u001b[0m \u001b[0mzip\u001b[0m\u001b[0;34m(\u001b[0m\u001b[0mws\u001b[0m\u001b[0;34m,\u001b[0m \u001b[0mpath\u001b[0m\u001b[0;34m)\u001b[0m\u001b[0;34m:\u001b[0m\u001b[0;34m\u001b[0m\u001b[0;34m\u001b[0m\u001b[0m\n\u001b[1;32m     54\u001b[0m                 \u001b[0mf\u001b[0m\u001b[0;34m.\u001b[0m\u001b[0mwrite\u001b[0m\u001b[0;34m(\u001b[0m\u001b[0mw\u001b[0m \u001b[0;34m+\u001b[0m \u001b[0;34m' '\u001b[0m \u001b[0;34m+\u001b[0m \u001b[0mtags\u001b[0m\u001b[0;34m[\u001b[0m\u001b[0mp\u001b[0m\u001b[0;34m]\u001b[0m \u001b[0;34m+\u001b[0m \u001b[0;34m'\\n'\u001b[0m\u001b[0;34m)\u001b[0m\u001b[0;34m\u001b[0m\u001b[0;34m\u001b[0m\u001b[0m\n",
      "\u001b[0;32m<ipython-input-199-e8448173a48e>\u001b[0m in \u001b[0;36mviterbi\u001b[0;34m(x, transition_matrix, emission_matrix, sos_index, eos_index)\u001b[0m\n\u001b[1;32m     41\u001b[0m     transition_matrix: (#tags(with eos,sos), #tags(with eos,sos))\n\u001b[1;32m     42\u001b[0m     emission_matrix: (#vocab_size,#tags(with eos,sos) )\"\"\"\n\u001b[0;32m---> 43\u001b[0;31m     \u001b[0mscore\u001b[0m\u001b[0;34m,\u001b[0m \u001b[0margmax\u001b[0m \u001b[0;34m=\u001b[0m \u001b[0mviterbi_score\u001b[0m\u001b[0;34m(\u001b[0m\u001b[0mx\u001b[0m\u001b[0;34m,\u001b[0m \u001b[0mtransition_matrix\u001b[0m\u001b[0;34m,\u001b[0m \u001b[0memission_matrix\u001b[0m\u001b[0;34m,\u001b[0m \u001b[0msos_index\u001b[0m\u001b[0;34m)\u001b[0m\u001b[0;34m\u001b[0m\u001b[0;34m\u001b[0m\u001b[0m\n\u001b[0m\u001b[1;32m     44\u001b[0m     \u001b[0mpath\u001b[0m \u001b[0;34m=\u001b[0m \u001b[0mviterbi_decode_path\u001b[0m\u001b[0;34m(\u001b[0m\u001b[0margmax\u001b[0m\u001b[0;34m,\u001b[0m \u001b[0meos_index\u001b[0m\u001b[0;34m)\u001b[0m\u001b[0;34m\u001b[0m\u001b[0;34m\u001b[0m\u001b[0m\n\u001b[1;32m     45\u001b[0m     \u001b[0;32mreturn\u001b[0m \u001b[0mpath\u001b[0m\u001b[0;34m[\u001b[0m\u001b[0;34m:\u001b[0m\u001b[0;34m-\u001b[0m\u001b[0;36m1\u001b[0m\u001b[0;34m]\u001b[0m\u001b[0;34m[\u001b[0m\u001b[0;34m:\u001b[0m\u001b[0;34m:\u001b[0m\u001b[0;34m-\u001b[0m\u001b[0;36m1\u001b[0m\u001b[0;34m]\u001b[0m\u001b[0;34m\u001b[0m\u001b[0;34m\u001b[0m\u001b[0m\n",
      "\u001b[0;32m<ipython-input-199-e8448173a48e>\u001b[0m in \u001b[0;36mviterbi_score\u001b[0;34m(x, transition_matrix, emission_matrix, sos_index)\u001b[0m\n\u001b[1;32m     18\u001b[0m             \u001b[0;32melse\u001b[0m\u001b[0;34m:\u001b[0m\u001b[0;34m\u001b[0m\u001b[0;34m\u001b[0m\u001b[0m\n\u001b[1;32m     19\u001b[0m                 \u001b[0mx_word_index\u001b[0m \u001b[0;34m=\u001b[0m \u001b[0mx\u001b[0m\u001b[0;34m[\u001b[0m\u001b[0mstep\u001b[0m\u001b[0;34m-\u001b[0m\u001b[0;36m1\u001b[0m\u001b[0;34m]\u001b[0m\u001b[0;34m\u001b[0m\u001b[0;34m\u001b[0m\u001b[0m\n\u001b[0;32m---> 20\u001b[0;31m                 \u001b[0me_score\u001b[0m \u001b[0;34m=\u001b[0m \u001b[0memission\u001b[0m\u001b[0;34m[\u001b[0m\u001b[0mx_word_index\u001b[0m\u001b[0;34m,\u001b[0m \u001b[0mstate\u001b[0m\u001b[0;34m]\u001b[0m\u001b[0;34m\u001b[0m\u001b[0;34m\u001b[0m\u001b[0m\n\u001b[0m\u001b[1;32m     21\u001b[0m                 \u001b[0mscore\u001b[0m\u001b[0;34m[\u001b[0m\u001b[0mstep\u001b[0m\u001b[0;34m,\u001b[0m \u001b[0mstate\u001b[0m\u001b[0;34m]\u001b[0m \u001b[0;34m=\u001b[0m \u001b[0mnp\u001b[0m\u001b[0;34m.\u001b[0m\u001b[0mmax\u001b[0m\u001b[0;34m(\u001b[0m\u001b[0mprevious_score\u001b[0m \u001b[0;34m+\u001b[0m \u001b[0mt_score\u001b[0m\u001b[0;34m)\u001b[0m \u001b[0;34m+\u001b[0m \u001b[0me_score\u001b[0m\u001b[0;34m\u001b[0m\u001b[0;34m\u001b[0m\u001b[0m\n\u001b[1;32m     22\u001b[0m             \u001b[0margmax\u001b[0m\u001b[0;34m[\u001b[0m\u001b[0mstep\u001b[0m\u001b[0;34m-\u001b[0m\u001b[0;36m1\u001b[0m\u001b[0;34m,\u001b[0m \u001b[0mstate\u001b[0m\u001b[0;34m]\u001b[0m \u001b[0;34m=\u001b[0m \u001b[0mnp\u001b[0m\u001b[0;34m.\u001b[0m\u001b[0margmax\u001b[0m\u001b[0;34m(\u001b[0m\u001b[0mprevious_score\u001b[0m \u001b[0;34m+\u001b[0m \u001b[0mt_score\u001b[0m\u001b[0;34m)\u001b[0m\u001b[0;34m\u001b[0m\u001b[0;34m\u001b[0m\u001b[0m\n",
      "\u001b[0;31mIndexError\u001b[0m: index 23 is out of bounds for axis 1 with size 23"
     ]
    }
   ],
   "source": [
    "main(EN_train, EN_out_2, EN_dev_x)\n",
    "! python {EVAL_script} {EN_dev_y} {EN_out_2}"
   ]
  },
  {
   "cell_type": "code",
   "execution_count": 195,
   "metadata": {},
   "outputs": [
    {
     "name": "stderr",
     "output_type": "stream",
     "text": [
      "/Users/pengfei/miniconda3/lib/python3.7/site-packages/ipykernel_launcher.py:11: RuntimeWarning: divide by zero encountered in true_divide\n",
      "  # This is added back by InteractiveShellApp.init_path()\n",
      "/Users/pengfei/miniconda3/lib/python3.7/site-packages/ipykernel_launcher.py:11: RuntimeWarning: invalid value encountered in true_divide\n",
      "  # This is added back by InteractiveShellApp.init_path()\n",
      "/Users/pengfei/miniconda3/lib/python3.7/site-packages/ipykernel_launcher.py:13: RuntimeWarning: divide by zero encountered in true_divide\n",
      "  del sys.path[0]\n",
      "/Users/pengfei/miniconda3/lib/python3.7/site-packages/ipykernel_launcher.py:13: RuntimeWarning: invalid value encountered in true_divide\n",
      "  del sys.path[0]\n",
      "/Users/pengfei/miniconda3/lib/python3.7/site-packages/ipykernel_launcher.py:11: RuntimeWarning: divide by zero encountered in log\n",
      "  # This is added back by InteractiveShellApp.init_path()\n"
     ]
    },
    {
     "ename": "IndexError",
     "evalue": "index 9 is out of bounds for axis 1 with size 9",
     "output_type": "error",
     "traceback": [
      "\u001b[0;31m---------------------------------------------------------------------------\u001b[0m",
      "\u001b[0;31mIndexError\u001b[0m                                Traceback (most recent call last)",
      "\u001b[0;32m<ipython-input-195-f9e039d6e552>\u001b[0m in \u001b[0;36m<module>\u001b[0;34m\u001b[0m\n\u001b[0;32m----> 1\u001b[0;31m \u001b[0mmain\u001b[0m\u001b[0;34m(\u001b[0m\u001b[0mCN_train\u001b[0m\u001b[0;34m,\u001b[0m \u001b[0mCN_out_2\u001b[0m\u001b[0;34m,\u001b[0m \u001b[0mCN_dev_x\u001b[0m\u001b[0;34m)\u001b[0m\u001b[0;34m\u001b[0m\u001b[0;34m\u001b[0m\u001b[0m\n\u001b[0m\u001b[1;32m      2\u001b[0m \u001b[0mget_ipython\u001b[0m\u001b[0;34m(\u001b[0m\u001b[0;34m)\u001b[0m\u001b[0;34m.\u001b[0m\u001b[0msystem\u001b[0m\u001b[0;34m(\u001b[0m\u001b[0;34m' python {EVAL_script} {CN_dev_y} {CN_out_2}'\u001b[0m\u001b[0;34m)\u001b[0m\u001b[0;34m\u001b[0m\u001b[0;34m\u001b[0m\u001b[0m\n",
      "\u001b[0;32m<ipython-input-189-d30f0ca31774>\u001b[0m in \u001b[0;36mmain\u001b[0;34m(train_file, output_filename, dev_x_filename)\u001b[0m\n\u001b[1;32m     27\u001b[0m     \u001b[0mtransition_matrix\u001b[0m \u001b[0;34m=\u001b[0m \u001b[0mtransition\u001b[0m\u001b[0;34m(\u001b[0m\u001b[0my\u001b[0m\u001b[0;34m)\u001b[0m\u001b[0;34m\u001b[0m\u001b[0;34m\u001b[0m\u001b[0m\n\u001b[1;32m     28\u001b[0m     \u001b[0;31m# decoding\u001b[0m\u001b[0;34m\u001b[0m\u001b[0;34m\u001b[0m\u001b[0;34m\u001b[0m\u001b[0m\n\u001b[0;32m---> 29\u001b[0;31m     \u001b[0mviterbi_decode_batch\u001b[0m\u001b[0;34m(\u001b[0m\u001b[0mx\u001b[0m\u001b[0;34m,\u001b[0m \u001b[0mtransition_matrix\u001b[0m\u001b[0;34m,\u001b[0m \u001b[0memission_matrix\u001b[0m\u001b[0;34m,\u001b[0m  \u001b[0mtags\u001b[0m\u001b[0;34m.\u001b[0m\u001b[0mindex\u001b[0m\u001b[0;34m(\u001b[0m\u001b[0;34m'SOS'\u001b[0m\u001b[0;34m)\u001b[0m\u001b[0;34m,\u001b[0m \u001b[0mtags\u001b[0m\u001b[0;34m.\u001b[0m\u001b[0mindex\u001b[0m\u001b[0;34m(\u001b[0m\u001b[0;34m'EOS'\u001b[0m\u001b[0;34m)\u001b[0m\u001b[0;34m,\u001b[0m \u001b[0moutput_filename\u001b[0m\u001b[0;34m,\u001b[0m \u001b[0mdev_x_filename\u001b[0m\u001b[0;34m,\u001b[0m \u001b[0mword2index\u001b[0m\u001b[0;34m,\u001b[0m \u001b[0mtags\u001b[0m\u001b[0;34m)\u001b[0m\u001b[0;34m\u001b[0m\u001b[0;34m\u001b[0m\u001b[0m\n\u001b[0m",
      "\u001b[0;32m<ipython-input-189-d30f0ca31774>\u001b[0m in \u001b[0;36mviterbi_decode_batch\u001b[0;34m(x, transition_matrix, emission_matrix, sos_index, eos_index, output_filename, dev_x_filename, word2index, tags)\u001b[0m\n\u001b[1;32m      4\u001b[0m         \u001b[0mwords\u001b[0m\u001b[0;34m,\u001b[0m \u001b[0mdev_x\u001b[0m \u001b[0;34m=\u001b[0m \u001b[0mget_test_data\u001b[0m\u001b[0;34m(\u001b[0m\u001b[0mdev_x_filename\u001b[0m\u001b[0;34m,\u001b[0m \u001b[0mword2index\u001b[0m\u001b[0;34m)\u001b[0m\u001b[0;34m\u001b[0m\u001b[0;34m\u001b[0m\u001b[0m\n\u001b[1;32m      5\u001b[0m         \u001b[0;32mfor\u001b[0m \u001b[0mws\u001b[0m\u001b[0;34m,\u001b[0m\u001b[0mo\u001b[0m \u001b[0;32min\u001b[0m \u001b[0mzip\u001b[0m\u001b[0;34m(\u001b[0m\u001b[0mwords\u001b[0m\u001b[0;34m,\u001b[0m \u001b[0mdev_x\u001b[0m\u001b[0;34m)\u001b[0m\u001b[0;34m:\u001b[0m\u001b[0;34m\u001b[0m\u001b[0;34m\u001b[0m\u001b[0m\n\u001b[0;32m----> 6\u001b[0;31m             \u001b[0mpath\u001b[0m \u001b[0;34m=\u001b[0m \u001b[0mviterbi\u001b[0m\u001b[0;34m(\u001b[0m\u001b[0mo\u001b[0m\u001b[0;34m,\u001b[0m \u001b[0mtransition_matrix\u001b[0m\u001b[0;34m,\u001b[0m \u001b[0memission_matrix\u001b[0m\u001b[0;34m,\u001b[0m  \u001b[0msos_index\u001b[0m\u001b[0;34m,\u001b[0m \u001b[0meos_index\u001b[0m\u001b[0;34m)\u001b[0m\u001b[0;34m\u001b[0m\u001b[0;34m\u001b[0m\u001b[0m\n\u001b[0m\u001b[1;32m      7\u001b[0m             \u001b[0;32mfor\u001b[0m \u001b[0mw\u001b[0m\u001b[0;34m,\u001b[0m \u001b[0mp\u001b[0m \u001b[0;32min\u001b[0m \u001b[0mzip\u001b[0m\u001b[0;34m(\u001b[0m\u001b[0mws\u001b[0m\u001b[0;34m,\u001b[0m \u001b[0mpath\u001b[0m\u001b[0;34m)\u001b[0m\u001b[0;34m:\u001b[0m\u001b[0;34m\u001b[0m\u001b[0;34m\u001b[0m\u001b[0m\n\u001b[1;32m      8\u001b[0m                 \u001b[0mf\u001b[0m\u001b[0;34m.\u001b[0m\u001b[0mwrite\u001b[0m\u001b[0;34m(\u001b[0m\u001b[0mw\u001b[0m \u001b[0;34m+\u001b[0m \u001b[0;34m' '\u001b[0m \u001b[0;34m+\u001b[0m \u001b[0mtags\u001b[0m\u001b[0;34m[\u001b[0m\u001b[0mp\u001b[0m\u001b[0;34m]\u001b[0m \u001b[0;34m+\u001b[0m \u001b[0;34m'\\n'\u001b[0m\u001b[0;34m)\u001b[0m\u001b[0;34m\u001b[0m\u001b[0;34m\u001b[0m\u001b[0m\n",
      "\u001b[0;32m<ipython-input-179-a5ebd6ec72cd>\u001b[0m in \u001b[0;36mviterbi\u001b[0;34m(x, transition_matrix, emission_matrix, sos_index, eos_index)\u001b[0m\n\u001b[1;32m     37\u001b[0m \u001b[0;34m\u001b[0m\u001b[0m\n\u001b[1;32m     38\u001b[0m \u001b[0;32mdef\u001b[0m \u001b[0mviterbi\u001b[0m\u001b[0;34m(\u001b[0m\u001b[0mx\u001b[0m\u001b[0;34m,\u001b[0m \u001b[0mtransition_matrix\u001b[0m\u001b[0;34m,\u001b[0m \u001b[0memission_matrix\u001b[0m\u001b[0;34m,\u001b[0m \u001b[0msos_index\u001b[0m\u001b[0;34m,\u001b[0m \u001b[0meos_index\u001b[0m\u001b[0;34m)\u001b[0m\u001b[0;34m:\u001b[0m\u001b[0;34m\u001b[0m\u001b[0;34m\u001b[0m\u001b[0m\n\u001b[0;32m---> 39\u001b[0;31m     \u001b[0mscore\u001b[0m\u001b[0;34m,\u001b[0m \u001b[0margmax\u001b[0m \u001b[0;34m=\u001b[0m \u001b[0mviterbi_score\u001b[0m\u001b[0;34m(\u001b[0m\u001b[0mx\u001b[0m\u001b[0;34m,\u001b[0m \u001b[0mtransition_matrix\u001b[0m\u001b[0;34m,\u001b[0m \u001b[0memission_matrix\u001b[0m\u001b[0;34m,\u001b[0m \u001b[0msos_index\u001b[0m\u001b[0;34m)\u001b[0m\u001b[0;34m\u001b[0m\u001b[0;34m\u001b[0m\u001b[0m\n\u001b[0m\u001b[1;32m     40\u001b[0m     \u001b[0mpath\u001b[0m \u001b[0;34m=\u001b[0m \u001b[0mviterbi_decode_path\u001b[0m\u001b[0;34m(\u001b[0m\u001b[0margmax\u001b[0m\u001b[0;34m,\u001b[0m \u001b[0meos_index\u001b[0m\u001b[0;34m)\u001b[0m\u001b[0;34m\u001b[0m\u001b[0;34m\u001b[0m\u001b[0m\n\u001b[1;32m     41\u001b[0m     \u001b[0;32mreturn\u001b[0m \u001b[0mpath\u001b[0m\u001b[0;34m[\u001b[0m\u001b[0;34m:\u001b[0m\u001b[0;34m-\u001b[0m\u001b[0;36m1\u001b[0m\u001b[0;34m]\u001b[0m\u001b[0;34m[\u001b[0m\u001b[0;34m:\u001b[0m\u001b[0;34m:\u001b[0m\u001b[0;34m-\u001b[0m\u001b[0;36m1\u001b[0m\u001b[0;34m]\u001b[0m\u001b[0;34m\u001b[0m\u001b[0;34m\u001b[0m\u001b[0m\n",
      "\u001b[0;32m<ipython-input-179-a5ebd6ec72cd>\u001b[0m in \u001b[0;36mviterbi_score\u001b[0;34m(x, transition_matrix, emission_matrix, sos_index)\u001b[0m\n\u001b[1;32m     18\u001b[0m             \u001b[0;32melse\u001b[0m\u001b[0;34m:\u001b[0m\u001b[0;34m\u001b[0m\u001b[0;34m\u001b[0m\u001b[0m\n\u001b[1;32m     19\u001b[0m                 \u001b[0mx_word_index\u001b[0m \u001b[0;34m=\u001b[0m \u001b[0mx\u001b[0m\u001b[0;34m[\u001b[0m\u001b[0mstep\u001b[0m\u001b[0;34m-\u001b[0m\u001b[0;36m1\u001b[0m\u001b[0;34m]\u001b[0m\u001b[0;34m\u001b[0m\u001b[0;34m\u001b[0m\u001b[0m\n\u001b[0;32m---> 20\u001b[0;31m                 \u001b[0me_score\u001b[0m \u001b[0;34m=\u001b[0m \u001b[0memission\u001b[0m\u001b[0;34m[\u001b[0m\u001b[0mx_word_index\u001b[0m\u001b[0;34m,\u001b[0m \u001b[0mstate\u001b[0m\u001b[0;34m]\u001b[0m\u001b[0;34m\u001b[0m\u001b[0;34m\u001b[0m\u001b[0m\n\u001b[0m\u001b[1;32m     21\u001b[0m                 \u001b[0mscore\u001b[0m\u001b[0;34m[\u001b[0m\u001b[0mstep\u001b[0m\u001b[0;34m,\u001b[0m \u001b[0mstate\u001b[0m\u001b[0;34m]\u001b[0m \u001b[0;34m=\u001b[0m \u001b[0mnp\u001b[0m\u001b[0;34m.\u001b[0m\u001b[0mmax\u001b[0m\u001b[0;34m(\u001b[0m\u001b[0mprevious_score\u001b[0m \u001b[0;34m+\u001b[0m \u001b[0mt_score\u001b[0m\u001b[0;34m)\u001b[0m \u001b[0;34m+\u001b[0m \u001b[0me_score\u001b[0m\u001b[0;34m\u001b[0m\u001b[0;34m\u001b[0m\u001b[0m\n\u001b[1;32m     22\u001b[0m             \u001b[0margmax\u001b[0m\u001b[0;34m[\u001b[0m\u001b[0mstep\u001b[0m\u001b[0;34m-\u001b[0m\u001b[0;36m1\u001b[0m\u001b[0;34m,\u001b[0m \u001b[0mstate\u001b[0m\u001b[0;34m]\u001b[0m \u001b[0;34m=\u001b[0m \u001b[0mnp\u001b[0m\u001b[0;34m.\u001b[0m\u001b[0margmax\u001b[0m\u001b[0;34m(\u001b[0m\u001b[0mprevious_score\u001b[0m\u001b[0;34m+\u001b[0m\u001b[0mt_score\u001b[0m\u001b[0;34m)\u001b[0m\u001b[0;34m\u001b[0m\u001b[0;34m\u001b[0m\u001b[0m\n",
      "\u001b[0;31mIndexError\u001b[0m: index 9 is out of bounds for axis 1 with size 9"
     ]
    }
   ],
   "source": [
    "main(CN_train, CN_out_2, CN_dev_x)\n",
    "! python {EVAL_script} {CN_dev_y} {CN_out_2}"
   ]
  },
  {
   "cell_type": "code",
   "execution_count": null,
   "metadata": {},
   "outputs": [],
   "source": []
  }
 ],
 "metadata": {
  "kernelspec": {
   "display_name": "Python 3",
   "language": "python",
   "name": "python3"
  },
  "language_info": {
   "codemirror_mode": {
    "name": "ipython",
    "version": 3
   },
   "file_extension": ".py",
   "mimetype": "text/x-python",
   "name": "python",
   "nbconvert_exporter": "python",
   "pygments_lexer": "ipython3",
   "version": "3.7.3"
  }
 },
 "nbformat": 4,
 "nbformat_minor": 2
}
