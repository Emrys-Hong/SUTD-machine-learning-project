{
 "cells": [
  {
   "cell_type": "code",
   "execution_count": 1,
   "metadata": {},
   "outputs": [],
   "source": [
    "from PGM.DM.dm import *\n",
    "from pathlib import Path"
   ]
  },
  {
   "cell_type": "markdown",
   "metadata": {},
   "source": [
    "## hyper params"
   ]
  },
  {
   "cell_type": "code",
   "execution_count": 2,
   "metadata": {},
   "outputs": [],
   "source": [
    "DATA_FOLDER = Path('./dataset/')\n",
    "\n",
    "\n",
    "EN = DATA_FOLDER/'EN'\n",
    "EN_train = EN/'train'\n",
    "EN_dev_x = EN/'dev.in'\n",
    "EN_dev_y = EN/'dev.out'\n",
    "\n",
    "\n",
    "PARA_FOLDER = DATA_FOLDER/'parameter'\n",
    "EN_para_FOLDER = PARA_FOLDER/'EN'\n",
    "EVAL_script = './EvalScript/evalResult.py'"
   ]
  },
  {
   "cell_type": "markdown",
   "metadata": {},
   "source": [
    "## training"
   ]
  },
  {
   "cell_type": "code",
   "execution_count": 3,
   "metadata": {},
   "outputs": [],
   "source": [
    "EN_para_CRF=EN_para_FOLDER/'CRF_5.0'"
   ]
  },
  {
   "cell_type": "code",
   "execution_count": 4,
   "metadata": {},
   "outputs": [],
   "source": [
    "datafile = EN_train\n",
    "modelfile = EN_para_CRF\n",
    "regularization = 10"
   ]
  },
  {
   "cell_type": "code",
   "execution_count": 5,
   "metadata": {},
   "outputs": [
    {
     "name": "stdout",
     "output_type": "stream",
     "text": [
      " ******** CRF *********\n",
      "* Number of labels: 21\n",
      "* Number of features: 801120\n",
      "Reinitialized model parameters\n",
      "* Initialized weight of size: 801120\n"
     ]
    }
   ],
   "source": [
    "crf = DM.get_CRF(datafile, modelfile, regularization)\n",
    "crf.load_data()"
   ]
  },
  {
   "cell_type": "code",
   "execution_count": 6,
   "metadata": {},
   "outputs": [
    {
     "name": "stdout",
     "output_type": "stream",
     "text": [
      "CRF model loaded\n"
     ]
    }
   ],
   "source": [
    "# crf.load_model(EN_para_FOLDER/'CRF_1') # change this to model file later"
   ]
  },
  {
   "cell_type": "code",
   "execution_count": null,
   "metadata": {},
   "outputs": [
    {
     "name": "stdout",
     "output_type": "stream",
     "text": [
      " ******** Start Training *********\n",
      "* Squared sigma: 10\n",
      "* Start Gradient Descend\n",
      "   ========================\n",
      "   iter(sit): Negative log-likelihood\n",
      "   ------------------------\n",
      "neg_log_likelihood:  375227.15582769044\n",
      "neg_log_likelihood:  345497.87532555324\n",
      "neg_log_likelihood:  248376.32002955713\n",
      "neg_log_likelihood:  153761.09487402465\n",
      "neg_log_likelihood:  120187.98715390667\n",
      "neg_log_likelihood:  96894.00681683836\n",
      "neg_log_likelihood:  81811.06735028629\n",
      "neg_log_likelihood:  71528.45960209181\n",
      "neg_log_likelihood:  62070.50154094765\n",
      "neg_log_likelihood:  54079.54445173637\n",
      "neg_log_likelihood:  46656.684655643236\n",
      "neg_log_likelihood:  42228.69005520196\n",
      "neg_log_likelihood:  38523.07499921228\n",
      "neg_log_likelihood:  32908.61333939917\n",
      "neg_log_likelihood:  28384.545197783922\n",
      "neg_log_likelihood:  25027.256862864186\n",
      "neg_log_likelihood:  21655.280370943197\n",
      "neg_log_likelihood:  18766.44894054031\n",
      "neg_log_likelihood:  15932.008311279134\n",
      "neg_log_likelihood:  13104.623848197703\n",
      "neg_log_likelihood:  11075.873490300097\n",
      "neg_log_likelihood:  9623.303507883797\n",
      "neg_log_likelihood:  8153.710183639291\n",
      "neg_log_likelihood:  7875.266538726735\n",
      "neg_log_likelihood:  6754.021249637586\n",
      "neg_log_likelihood:  6504.520718168333\n"
     ]
    }
   ],
   "source": [
    "crf.train(5.0)"
   ]
  },
  {
   "cell_type": "markdown",
   "metadata": {},
   "source": [
    "## dev testing"
   ]
  },
  {
   "cell_type": "code",
   "execution_count": 8,
   "metadata": {},
   "outputs": [],
   "source": [
    "EN_crf_dev_out = EN/'dev.crf.out'"
   ]
  },
  {
   "cell_type": "code",
   "execution_count": 9,
   "metadata": {},
   "outputs": [
    {
     "name": "stdout",
     "output_type": "stream",
     "text": [
      " ******** CRF *********\n",
      "CRF model loaded\n",
      "* Test output has been saved at \"/home/pengfei/sutd-machine-learning-project/dataset/EN/dev.crf.out\"\n",
      "\n",
      "#Entity in gold data: 13179\n",
      "#Entity in prediction: 12808\n",
      "\n",
      "#Correct Entity : 11182\n",
      "Entity  precision: 0.8730\n",
      "Entity  recall: 0.8485\n",
      "Entity  F: 0.8606\n",
      "\n",
      "#Correct Sentiment : 10601\n",
      "Sentiment  precision: 0.8277\n",
      "Sentiment  recall: 0.8044\n",
      "Sentiment  F: 0.8159\n"
     ]
    }
   ],
   "source": [
    "crf = DM.get_CRF(datafile, modelfile, regularization)\n",
    "crf.load_model(modelfile)\n",
    "crf.test(EN_dev_y,EN_crf_dev_out)\n",
    "! python3 {EVAL_script} {EN_dev_y} {EN_crf_dev_out}"
   ]
  },
  {
   "cell_type": "markdown",
   "metadata": {},
   "source": [
    "### test testing"
   ]
  },
  {
   "cell_type": "code",
   "execution_count": null,
   "metadata": {},
   "outputs": [],
   "source": [
    "#################################################\n",
    "EN_test_in = EN/\"test.in\"\n",
    "EN_test_out = EN/\"test.p5.out\""
   ]
  },
  {
   "cell_type": "code",
   "execution_count": 13,
   "metadata": {},
   "outputs": [
    {
     "name": "stdout",
     "output_type": "stream",
     "text": [
      " ******** CRF *********\n",
      "CRF model loaded\n",
      "* Test output has been saved at \"/home/pengfei/sutd-machine-learning-project/dataset/EN/test.out\"\n",
      "\n",
      "#Entity in gold data: 13179\n",
      "#Entity in prediction: 12585\n",
      "\n",
      "#Correct Entity : 2003\n",
      "Entity  precision: 0.1592\n",
      "Entity  recall: 0.1520\n",
      "Entity  F: 0.1555\n",
      "\n",
      "#Correct Sentiment : 819\n",
      "Sentiment  precision: 0.0651\n",
      "Sentiment  recall: 0.0621\n",
      "Sentiment  F: 0.0636\n"
     ]
    }
   ],
   "source": [
    "EN_para_CRF_1=EN_para_FOLDER/'CRF_1'\n",
    "datafile = EN_test_in \n",
    "modelfile = EN_para_CRF_1\n",
    "regularization = 10\n",
    "#################################\n",
    "crf = DM.get_CRF(datafile, modelfile, regularization)\n",
    "crf.load_model(modelfile)\n",
    "crf.test(EN_test_in,EN_test_out)"
   ]
  }
 ],
 "metadata": {
  "kernelspec": {
   "display_name": "Python 3",
   "language": "python",
   "name": "python3"
  },
  "language_info": {
   "codemirror_mode": {
    "name": "ipython",
    "version": 3
   },
   "file_extension": ".py",
   "mimetype": "text/x-python",
   "name": "python",
   "nbconvert_exporter": "python",
   "pygments_lexer": "ipython3",
   "version": "3.7.3"
  }
 },
 "nbformat": 4,
 "nbformat_minor": 2
}
