{
 "cells": [
  {
   "cell_type": "code",
   "execution_count": 1,
   "metadata": {},
   "outputs": [],
   "source": [
    "from PGM.DM.dm import *\n",
    "from pathlib import Path"
   ]
  },
  {
   "cell_type": "code",
   "execution_count": 2,
   "metadata": {},
   "outputs": [],
   "source": [
    "DATA_FOLDER = Path('./dataset/')\n",
    "AL = DATA_FOLDER/'AL'\n",
    "AL_train = AL/'train'\n",
    "AL_dev_x = AL/'dev.in'\n",
    "AL_dev_y = AL/'dev.out'\n",
    "\n",
    "# AL_memm_1 = AL/'dev.memm1.out'\n",
    "# AL_sp_1 = AL/'dev.sp1.out'\n",
    "\n",
    "\n",
    "PARA_FOLDER = DATA_FOLDER/'parameter'\n",
    "AL_para_FOLDER = PARA_FOLDER/'AL'\n",
    "\n",
    "EVAL_script = './EvalScript/evalResult.py'"
   ]
  },
  {
   "cell_type": "markdown",
   "metadata": {},
   "source": [
    "### hyper paramters"
   ]
  },
  {
   "cell_type": "code",
   "execution_count": 3,
   "metadata": {},
   "outputs": [],
   "source": [
    "AL_para_CRF =AL_para_FOLDER/'CRF_5.0'\n",
    "datafile = AL_train\n",
    "modelfile = AL_para_CRF\n",
    "regularization = 20"
   ]
  },
  {
   "cell_type": "markdown",
   "metadata": {},
   "source": [
    "## training"
   ]
  },
  {
   "cell_type": "code",
   "execution_count": 4,
   "metadata": {},
   "outputs": [
    {
     "name": "stdout",
     "output_type": "stream",
     "text": [
      " ******** CRF *********\n",
      "* Number of labels: 42\n",
      "* Number of features: 443993\n",
      "Reinitialized model parameters\n",
      "* Initialized weight of size: 443993\n"
     ]
    }
   ],
   "source": [
    "crf = DM.get_CRF(datafile, modelfile, regularization)\n",
    "crf.load_data()"
   ]
  },
  {
   "cell_type": "code",
   "execution_count": 5,
   "metadata": {},
   "outputs": [
    {
     "name": "stdout",
     "output_type": "stream",
     "text": [
      "CRF model loaded\n"
     ]
    }
   ],
   "source": [
    "# crf.load_model(AL_para_FOLDER/'CRF_3')"
   ]
  },
  {
   "cell_type": "code",
   "execution_count": null,
   "metadata": {},
   "outputs": [
    {
     "name": "stdout",
     "output_type": "stream",
     "text": [
      " ******** Start Training *********\n",
      "* Squared sigma: 20\n",
      "* Start Gradient Descend\n",
      "   ========================\n",
      "   iter(sit): Negative log-likelihood\n",
      "   ------------------------\n",
      "neg_log_likelihood:  272358.1232882727\n",
      "neg_log_likelihood:  254926.5017471078\n",
      "neg_log_likelihood:  163298.92340565464\n",
      "neg_log_likelihood:  138045.5499974789\n",
      "neg_log_likelihood:  109994.75305514006\n",
      "neg_log_likelihood:  100613.81058267497\n",
      "neg_log_likelihood:  97495.35684988803\n",
      "neg_log_likelihood:  83676.15291670564\n",
      "neg_log_likelihood:  77145.18002183287\n",
      "neg_log_likelihood:  67963.77202878214\n",
      "neg_log_likelihood:  63867.11780382791\n",
      "neg_log_likelihood:  61235.928156111055\n",
      "neg_log_likelihood:  56155.58046586933\n",
      "neg_log_likelihood:  50240.00975945088\n",
      "neg_log_likelihood:  44486.314778150256\n",
      "neg_log_likelihood:  40352.61191745201\n"
     ]
    }
   ],
   "source": [
    "crf.train(5.0)"
   ]
  },
  {
   "cell_type": "markdown",
   "metadata": {},
   "source": [
    "### Dev Testing"
   ]
  },
  {
   "cell_type": "markdown",
   "metadata": {},
   "source": [
    "crf1: \n",
    "Entity  F: 0.8935\n",
    "Sentiment  F: 0.7979"
   ]
  },
  {
   "cell_type": "code",
   "execution_count": 32,
   "metadata": {},
   "outputs": [],
   "source": [
    "AL_crf_dev_out = AL/'dev.crf.out'"
   ]
  },
  {
   "cell_type": "code",
   "execution_count": 33,
   "metadata": {},
   "outputs": [
    {
     "name": "stdout",
     "output_type": "stream",
     "text": [
      "* Test output has been saved at \"/home/pengfei/sutd-machine-learning-project/dataset/AL/dev.crf.out\"\n",
      "Entity  F: 0.8768\n",
      "Sentiment  F: 0.7890\n"
     ]
    }
   ],
   "source": [
    "crf.test(AL_dev_y,AL_crf_dev_out)\n",
    "! python3 {EVAL_script} {AL_dev_y} {AL_crf_dev_out} | grep F:"
   ]
  },
  {
   "cell_type": "markdown",
   "metadata": {},
   "source": [
    "## test testing"
   ]
  },
  {
   "cell_type": "code",
   "execution_count": null,
   "metadata": {},
   "outputs": [],
   "source": [
    "datafile = AL_test_in \n",
    "modelfile = AL_para_CRF\n",
    "regularization = 10\n",
    "#################################\n",
    "crf = DM.get_CRF(datafile, modelfile, regularization)\n",
    "crf.load_model(modelfile)\n",
    "crf.test(AL_test_in, AL_test_out)"
   ]
  }
 ],
 "metadata": {
  "kernelspec": {
   "display_name": "Python 3",
   "language": "python",
   "name": "python3"
  },
  "language_info": {
   "codemirror_mode": {
    "name": "ipython",
    "version": 3
   },
   "file_extension": ".py",
   "mimetype": "text/x-python",
   "name": "python",
   "nbconvert_exporter": "python",
   "pygments_lexer": "ipython3",
   "version": "3.7.3"
  }
 },
 "nbformat": 4,
 "nbformat_minor": 2
}
