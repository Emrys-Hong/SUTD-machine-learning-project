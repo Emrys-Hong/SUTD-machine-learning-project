{
 "cells": [
  {
   "cell_type": "code",
   "execution_count": 1,
   "metadata": {},
   "outputs": [],
   "source": [
    "from PGM.DM.dm import *\n",
    "from pathlib import Path"
   ]
  },
  {
   "cell_type": "code",
   "execution_count": 2,
   "metadata": {},
   "outputs": [],
   "source": [
    "DATA_FOLDER = Path('./dataset/')\n",
    "AL = DATA_FOLDER/'AL'\n",
    "AL_train = AL/'train'\n",
    "AL_dev_x = AL/'dev.in'\n",
    "AL_dev_y = AL/'dev.out'\n",
    "\n",
    "# AL_memm_1 = AL/'dev.memm1.out'\n",
    "# AL_sp_1 = AL/'dev.sp1.out'\n",
    "\n",
    "\n",
    "PARA_FOLDER = DATA_FOLDER/'parameter'\n",
    "AL_para_FOLDER = PARA_FOLDER/'AL'\n",
    "\n",
    "EVAL_script = './EvalScript/evalResult.py'"
   ]
  },
  {
   "cell_type": "markdown",
   "metadata": {},
   "source": [
    "### hyper paramters"
   ]
  },
  {
   "cell_type": "code",
   "execution_count": 3,
   "metadata": {},
   "outputs": [],
   "source": [
    "AL_para_CRF =AL_para_FOLDER/'CRF_1.0'\n",
    "datafile = AL_train\n",
    "modelfile = AL_para_CRF\n",
    "regularization = 20"
   ]
  },
  {
   "cell_type": "markdown",
   "metadata": {},
   "source": [
    "## training"
   ]
  },
  {
   "cell_type": "code",
   "execution_count": 4,
   "metadata": {},
   "outputs": [
    {
     "name": "stdout",
     "output_type": "stream",
     "text": [
      " ******** CRF *********\n",
      "* Number of labels: 42\n",
      "* Number of features: 443993\n",
      "Reinitialized model parameters\n",
      "* Initialized weight of size: 443993\n"
     ]
    }
   ],
   "source": [
    "crf = DM.get_CRF(datafile, modelfile, regularization)\n",
    "crf.load_data()"
   ]
  },
  {
   "cell_type": "code",
   "execution_count": 5,
   "metadata": {},
   "outputs": [
    {
     "name": "stdout",
     "output_type": "stream",
     "text": [
      "CRF model loaded\n"
     ]
    }
   ],
   "source": [
    "# crf.load_model(AL_para_FOLDER/'CRF_3')"
   ]
  },
  {
   "cell_type": "code",
   "execution_count": null,
   "metadata": {},
   "source": [
    "crf.train(5.0)",
    "# better precision can be obtained with samller ,e.g,pre =0.07; in order to finish it fast, can use bigger pre= 5.0 \n",
   ]
  },
  
  
  {
   "cell_type": "markdown",
   "metadata": {},
   "source": [
    "### Dev Testing"
   ]
  },
  {
   "cell_type": "code",
   "execution_count": 32,
   "metadata": {},
   "outputs": [],
   "source": [
    "AL_crf_dev_out = AL/'dev.crf.out'"
   ]
  },
  {
   "cell_type": "code",
   "execution_count": 33,
   "metadata": {},
   "source": [
    "crf.test(AL_dev_y,AL_crf_dev_out)\n",
    "! python3 {EVAL_script} {AL_dev_y} {AL_crf_dev_out} | grep F:"
   ]
  },
  {
   "cell_type": "markdown",
   "metadata": {},
   "source": [
    "## test testing"
   ]
  },
  {
   "cell_type": "code",
   "execution_count": null,
   "metadata": {},
   "outputs": [],
   "source": [
    "datafile = AL_test_in \n",
    "modelfile = AL_para_CRF\n",
    "regularization = 10\n",
    "#################################\n",
    "crf = DM.get_CRF(datafile, modelfile, regularization)\n",
    "crf.load_model(modelfile)\n",
    "crf.test(AL_test_in, AL_test_out)"
   ]
  }
 ],
 "metadata": {
  "kernelspec": {
   "display_name": "Python 3",
   "language": "python",
   "name": "python3"
  },
  "language_info": {
   "codemirror_mode": {
    "name": "ipython",
    "version": 3
   },
   "file_extension": ".py",
   "mimetype": "text/x-python",
   "name": "python",
   "nbconvert_exporter": "python",
   "pygments_lexer": "ipython3",
   "version": "3.7.3"
  }
 },
 "nbformat": 4,
 "nbformat_minor": 2
}
