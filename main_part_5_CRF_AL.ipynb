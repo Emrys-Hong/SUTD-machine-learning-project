{
 "cells": [
  {
   "cell_type": "code",
   "execution_count": 1,
   "metadata": {},
   "outputs": [],
   "source": [
    "from PGM.DM.dm import *\n",
    "from pathlib import Path"
   ]
  },
  {
   "cell_type": "code",
   "execution_count": 4,
   "metadata": {},
   "outputs": [],
   "source": [
    "DATA_FOLDER = Path('./dataset/')\n",
    "AL = DATA_FOLDER/'AL'\n",
    "AL_train = AL/'train'\n",
    "AL_dev_x = AL/'dev.in'\n",
    "AL_dev_y = AL/'dev.out'\n",
    "AL_out_2 = AL/'dev.p2.out'\n",
    "AL_out_3 = AL/'dev.p3.out'\n",
    "AL_out_4 = AL/'dev.p4.out'\n",
    "AL_crf_1 = AL/'dev.crf1.out'\n",
    "AL_memm_1 = AL/'dev.memm1.out'\n",
    "AL_sp_1 = AL/'dev.sp1.out'\n",
    "\n",
    "\n",
    "EN = DATA_FOLDER/'EN'\n",
    "EN_train = EN/'train'\n",
    "EN_dev_x = EN/'dev.in'\n",
    "EN_dev_y = EN/'dev.out'\n",
    "EN_out_2 = EN/'dev.p2.out'\n",
    "EN_out_3 = EN/'dev.p3.out'\n",
    "EN_out_4 = EN/'dev.p4.out'\n",
    "EN_crf_1 = EN/'dev.crf1.out'\n",
    "EN_memm_1 = EN/'dev.memm1.out'\n",
    "EN_sp_1 = EN/'dev.sp1.out'\n",
    "\n",
    "CN = DATA_FOLDER/'CN'\n",
    "CN_train = CN/'train'\n",
    "CN_dev_x = CN/'dev.in'\n",
    "CN_dev_y = CN/'dev.out'\n",
    "CN_out_2 = CN/'dev.p2.out'\n",
    "CN_out_3 = CN/'dev.p3.out'\n",
    "\n",
    "SG = DATA_FOLDER/'SG'\n",
    "SG_train = SG/'train'\n",
    "SG_dev_x = SG/'dev.in'\n",
    "SG_dev_y = SG/'dev.out'\n",
    "SG_out_2 = SG/'dev.p2.out'\n",
    "SG_out_3 = SG/'dev.p3.out'\n",
    "\n",
    "PARA_FOLDER = DATA_FOLDER/'parameter'\n",
    "AL_para_FOLDER = PARA_FOLDER/'AL'\n",
    "EN_para_FOLDER = PARA_FOLDER/'EN'\n",
    "\n",
    "EVAL_script = './EvalScript/evalResult.py'"
   ]
  },
  {
   "cell_type": "code",
   "execution_count": 5,
   "metadata": {},
   "outputs": [
    {
     "name": "stdout",
     "output_type": "stream",
     "text": [
      " ******** CRF *********\n",
      "* Number of labels: 42\n",
      "* Number of features: 443993\n",
      "* Initialized weight of size: 443993\n",
      " ******** Start Training *********\n",
      "* Squared sigma: 50\n",
      "* Start Gradient Descend\n",
      "   ========================\n",
      "   iter(sit): Negative log-likelihood\n",
      "   ------------------------\n",
      "   Iteration: 0, Negative Log-likelihood: 653901.5620625856\n",
      "   Iteration: 1, Negative Log-likelihood: 76443.09355883379\n",
      "   Iteration: 2, Negative Log-likelihood: 437815.94853293616\n",
      "   Iteration: 3, Negative Log-likelihood: 57916.34262358779\n",
      "   Iteration: 4, Negative Log-likelihood: 101498.96199423107\n",
      "   Iteration: 5, Negative Log-likelihood: 42542.552297463175\n",
      "   Iteration: 6, Negative Log-likelihood: 55125.44363726354\n",
      "   Iteration: 7, Negative Log-likelihood: 38571.858893296056\n",
      "   Iteration: 8, Negative Log-likelihood: 31630.87011430865\n",
      "   Iteration: 9, Negative Log-likelihood: 28679.607634406624\n",
      "   Iteration: 10, Negative Log-likelihood: 21723.08596722102\n",
      "   Iteration: 11, Negative Log-likelihood: 22885.332122909556\n",
      "   Iteration: 12, Negative Log-likelihood: 15564.219390232705\n",
      "   Iteration: 13, Negative Log-likelihood: 18618.774431620208\n",
      "   Iteration: 14, Negative Log-likelihood: 11310.000379295314\n",
      "   Iteration: 15, Negative Log-likelihood: 15427.706714959433\n",
      "   Iteration: 16, Negative Log-likelihood: 8794.511311547967\n",
      "   Iteration: 17, Negative Log-likelihood: 13040.100127421505\n",
      "   Iteration: 18, Negative Log-likelihood: 8511.659691929639\n",
      "   Iteration: 19, Negative Log-likelihood: 11781.867171072974\n",
      "   Iteration: 20, Negative Log-likelihood: 6740.779269192646\n",
      "   Iteration: 21, Negative Log-likelihood: 10440.660888450724\n",
      "   Iteration: 22, Negative Log-likelihood: 5822.471700347218\n",
      "   Iteration: 23, Negative Log-likelihood: 9661.124835055238\n",
      "   Iteration: 24, Negative Log-likelihood: 5059.020507482832\n",
      "   Iteration: 25, Negative Log-likelihood: 8783.524829903663\n",
      "   Iteration: 26, Negative Log-likelihood: 4686.177372434175\n",
      "   Iteration: 27, Negative Log-likelihood: 8226.584607893334\n",
      "   Iteration: 28, Negative Log-likelihood: 4304.262625638587\n",
      "   Iteration: 29, Negative Log-likelihood: 7662.283304663662\n",
      "   ========================\n",
      "   (iter: iteration, sit: sub iteration)\n",
      "* Likelihood: 7662.283304663662\n",
      " ******** Finished Training *********\n",
      "* Trained CRF Model has been saved at \"/home/pengfei/sutd-machine-learning-project/dataset/parameter/AL/CRF_1\"\n",
      "* Elapsed time: 332.0 mins\n"
     ]
    }
   ],
   "source": [
    "AL_para_CRF_1=AL_para_FOLDER/'CRF_1'\n",
    "datafile = AL_train\n",
    "modelfile = AL_para_CRF_1\n",
    "regularization = 50\n",
    "epoch = 30\n",
    "crf = DM.get_CRF(datafile, modelfile, regularization)\n",
    "crf.load_data()\n",
    "crf.train(epoch, lr=0.2)"
   ]
  },
  {
   "cell_type": "code",
   "execution_count": null,
   "metadata": {},
   "outputs": [],
   "source": [
    "crf = DM.get_crf(datafile, modelfile, regularization)\n",
    "crf.load_model(modelfile)\n",
    "crf.test(AL_dev_y,AL_crf_1)\n",
    "! python3 {EVAL_script} {AL_dev_y} {AL_crf_1}"
   ]
  },
  {
   "cell_type": "code",
   "execution_count": null,
   "metadata": {},
   "outputs": [],
   "source": []
  }
 ],
 "metadata": {
  "kernelspec": {
   "display_name": "Python 3",
   "language": "python",
   "name": "python3"
  },
  "language_info": {
   "codemirror_mode": {
    "name": "ipython",
    "version": 3
   },
   "file_extension": ".py",
   "mimetype": "text/x-python",
   "name": "python",
   "nbconvert_exporter": "python",
   "pygments_lexer": "ipython3",
   "version": "3.7.3"
  }
 },
 "nbformat": 4,
 "nbformat_minor": 2
}
