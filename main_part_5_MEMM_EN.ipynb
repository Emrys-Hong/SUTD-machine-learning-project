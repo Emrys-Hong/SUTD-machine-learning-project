{
 "cells": [
  {
   "cell_type": "code",
   "execution_count": 1,
   "metadata": {},
   "outputs": [],
   "source": [
    "from PGM.DM.dm import *\n",
    "from pathlib import Path"
   ]
  },
  {
   "cell_type": "code",
   "execution_count": 2,
   "metadata": {},
   "outputs": [],
   "source": [
    "DATA_FOLDER = Path('./dataset/')\n",
    "AL = DATA_FOLDER/'AL'\n",
    "AL_train = AL/'train'\n",
    "AL_dev_x = AL/'dev.in'\n",
    "AL_dev_y = AL/'dev.out'\n",
    "AL_out_2 = AL/'dev.p2.out'\n",
    "AL_out_3 = AL/'dev.p3.out'\n",
    "AL_out_4 = AL/'dev.p4.out'\n",
    "AL_crf_1 = AL/'dev.crf1.out'\n",
    "AL_memm_1 = AL/'dev.memm1.out'\n",
    "AL_sp_1 = AL/'dev.sp1.out'\n",
    "\n",
    "EN = DATA_FOLDER/'EN'\n",
    "EN_train = EN/'train'\n",
    "EN_dev_x = EN/'dev.in'\n",
    "EN_dev_y = EN/'dev.out'\n",
    "EN_out_2 = EN/'dev.p2.out'\n",
    "EN_out_3 = EN/'dev.p3.out'\n",
    "EN_out_4 = EN/'dev.p4.out'\n",
    "EN_crf_1 = EN/'dev.crf1.out'\n",
    "EN_memm_1 = EN/'dev.memm1.out'\n",
    "EN_sp_1 = EN/'dev.sp1.out'\n",
    "\n",
    "CN = DATA_FOLDER/'CN'\n",
    "CN_train = CN/'train'\n",
    "CN_dev_x = CN/'dev.in'\n",
    "CN_dev_y = CN/'dev.out'\n",
    "CN_out_2 = CN/'dev.p2.out'\n",
    "CN_out_3 = CN/'dev.p3.out'\n",
    "\n",
    "SG = DATA_FOLDER/'SG'\n",
    "SG_train = SG/'train'\n",
    "SG_dev_x = SG/'dev.in'\n",
    "SG_dev_y = SG/'dev.out'\n",
    "SG_out_2 = SG/'dev.p2.out'\n",
    "SG_out_3 = SG/'dev.p3.out'\n",
    "\n",
    "PARA_FOLDER = DATA_FOLDER/'parameter'\n",
    "AL_para_FOLDER = PARA_FOLDER/'AL'\n",
    "EN_para_FOLDER = PARA_FOLDER/'EN'\n",
    "\n",
    "EVAL_script = './EvalScript/evalResult.py'"
   ]
  },
  {
   "cell_type": "code",
   "execution_count": 3,
   "metadata": {},
   "outputs": [
    {
     "name": "stdout",
     "output_type": "stream",
     "text": [
      " ******** MEMM *********\n",
      "* Number of labels: 21\n",
      "* Number of features: 801120\n",
      "* Initialized weight of size: 801120\n",
      " ******** Start Training *********\n",
      "* Squared sigma: 10\n",
      "* Start Gradient Descend\n",
      "   ========================\n",
      "   iter(sit): Negative log-likelihood\n",
      "   ------------------------\n",
      "   Iteration: 0, Negative Log-likelihood: 552971.0259626366\n",
      "   Iteration: 1, Negative Log-likelihood: 478521.49781973567\n",
      "   Iteration: 2, Negative Log-likelihood: 453770.10612330795\n",
      "   Iteration: 3, Negative Log-likelihood: 440679.04187276337\n",
      "   ========================\n",
      "   (iter: iteration, sit: sub iteration)\n",
      "* Likelihood: 440679.04187276337\n",
      " ******** Finished Training *********\n",
      "* Trained CRF Model has been saved at \"/home/pengfei/sutd-machine-learning-project/dataset/parameter/EN/MEMM_1\"\n",
      "* Elapsed time: 40.0 mins\n"
     ]
    }
   ],
   "source": [
    "EN_para_MEMM_1=EN_para_FOLDER/'MEMM_1'\n",
    "datafile = EN_train\n",
    "modelfile = EN_para_MEMM_1\n",
    "regularization = 10\n",
    "epoch = 4\n",
    "memm = DM.get_MEMM(datafile, modelfile, regularization)\n",
    "memm.load_data()\n",
    "memm.train(epoch,lr=0.01)"
   ]
  },
  {
   "cell_type": "markdown",
   "metadata": {},
   "source": [
    "## continuation 1"
   ]
  },
  {
   "cell_type": "code",
   "execution_count": 3,
   "metadata": {},
   "outputs": [
    {
     "name": "stdout",
     "output_type": "stream",
     "text": [
      " ******** MEMM *********\n",
      "CRF model loaded\n",
      "* Number of labels: 21\n",
      "* Number of features: 801120\n",
      "* Initialized weight of size: 801120\n",
      " ******** Start Training *********\n",
      "* Squared sigma: 10\n",
      "* Start Gradient Descend\n",
      "   ========================\n",
      "   iter(sit): Negative log-likelihood\n",
      "   ------------------------\n",
      "   Iteration: 4, Negative Log-likelihood: 552971.0259626366\n",
      "   Iteration: 5, Negative Log-likelihood: 486302.4730824901\n",
      "   Iteration: 6, Negative Log-likelihood: 438457.90772359626\n",
      "   Iteration: 7, Negative Log-likelihood: 402752.1155491245\n",
      "   ========================\n",
      "   (iter: iteration, sit: sub iteration)\n",
      "* Likelihood: 402752.1155491245\n",
      " ******** Finished Training *********\n",
      "* Trained CRF Model has been saved at \"/home/pengfei/sutd-machine-learning-project/dataset/parameter/EN/MEMM_1\"\n",
      "* Elapsed time: 40.0 mins\n"
     ]
    }
   ],
   "source": [
    "EN_para_MEMM_1=EN_para_FOLDER/'MEMM_1'\n",
    "datafile = EN_train\n",
    "modelfile = EN_para_MEMM_1\n",
    "regularization = 10\n",
    "epoch = 4\n",
    "############################\n",
    "memm = DM.get_MEMM(datafile, modelfile, regularization)\n",
    "memm.load_model(modelfile)\n",
    "memm.load_data()\n",
    "memm.train(epoch,lr=0.1,start_epoch=4)"
   ]
  },
  {
   "cell_type": "code",
   "execution_count": 5,
   "metadata": {},
   "outputs": [
    {
     "name": "stdout",
     "output_type": "stream",
     "text": [
      " ******** MEMM *********\n",
      "CRF model loaded\n",
      "* Test output has been saved at \"/home/pengfei/sutd-machine-learning-project/dataset/EN/dev.memm1.out\"\n",
      "\n",
      "#Entity in gold data: 13179\n",
      "#Entity in prediction: 12353\n",
      "\n",
      "#Correct Entity : 9999\n",
      "Entity  precision: 0.8094\n",
      "Entity  recall: 0.7587\n",
      "Entity  F: 0.7833\n",
      "\n",
      "#Correct Sentiment : 9318\n",
      "Sentiment  precision: 0.7543\n",
      "Sentiment  recall: 0.7070\n",
      "Sentiment  F: 0.7299\n"
     ]
    }
   ],
   "source": [
    "EN_para_MEMM_1=EN_para_FOLDER/'MEMM_1'\n",
    "datafile = EN_train\n",
    "modelfile = EN_para_MEMM_1\n",
    "regularization = 10\n",
    "#############################\n",
    "memm = DM.get_MEMM(datafile, modelfile, regularization)\n",
    "memm.load_model(modelfile)\n",
    "memm.test(EN_dev_y, EN_memm_1)\n",
    "! python3 {EVAL_script} {EN_dev_y} {EN_memm_1}"
   ]
  },
  {
   "cell_type": "code",
   "execution_count": null,
   "metadata": {},
   "outputs": [],
   "source": []
  }
 ],
 "metadata": {
  "kernelspec": {
   "display_name": "Python 3",
   "language": "python",
   "name": "python3"
  },
  "language_info": {
   "codemirror_mode": {
    "name": "ipython",
    "version": 3
   },
   "file_extension": ".py",
   "mimetype": "text/x-python",
   "name": "python",
   "nbconvert_exporter": "python",
   "pygments_lexer": "ipython3",
   "version": "3.7.3"
  }
 },
 "nbformat": 4,
 "nbformat_minor": 2
}
