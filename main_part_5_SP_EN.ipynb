{
 "cells": [
  {
   "cell_type": "code",
   "execution_count": 1,
   "metadata": {},
   "outputs": [],
   "source": [
    "from PGM.DM.dm import *\n",
    "from pathlib import Path"
   ]
  },
  {
   "cell_type": "code",
   "execution_count": 2,
   "metadata": {},
   "outputs": [],
   "source": [
    "DATA_FOLDER = Path('./dataset/')\n",
    "AL = DATA_FOLDER/'AL'\n",
    "AL_train = AL/'train'\n",
    "AL_dev_x = AL/'dev.in'\n",
    "AL_dev_y = AL/'dev.out'\n",
    "AL_out_2 = AL/'dev.p2.out'\n",
    "AL_out_3 = AL/'dev.p3.out'\n",
    "AL_out_4 = AL/'dev.p4.out'\n",
    "AL_crf_1 = AL/'dev.crf1.out'\n",
    "AL_memm_1 = AL/'dev.memm1.out'\n",
    "AL_sp_1 = AL/'dev.sp1.out'\n",
    "\n",
    "EN = DATA_FOLDER/'EN'\n",
    "EN_train = EN/'train'\n",
    "EN_dev_x = EN/'dev.in'\n",
    "EN_dev_y = EN/'dev.out'\n",
    "EN_out_2 = EN/'dev.p2.out'\n",
    "EN_out_3 = EN/'dev.p3.out'\n",
    "EN_out_4 = EN/'dev.p4.out'\n",
    "EN_crf_1 = EN/'dev.crf1.out'\n",
    "EN_memm_1 = EN/'dev.memm1.out'\n",
    "EN_sp_1 = EN/'dev.sp1.out'\n",
    "#EN_sp_2 = EN/'dev.sp2.out'\n",
    "\n",
    "CN = DATA_FOLDER/'CN'\n",
    "CN_train = CN/'train'\n",
    "CN_dev_x = CN/'dev.in'\n",
    "CN_dev_y = CN/'dev.out'\n",
    "CN_out_2 = CN/'dev.p2.out'\n",
    "CN_out_3 = CN/'dev.p3.out'\n",
    "\n",
    "SG = DATA_FOLDER/'SG'\n",
    "SG_train = SG/'train'\n",
    "SG_dev_x = SG/'dev.in'\n",
    "SG_dev_y = SG/'dev.out'\n",
    "SG_out_2 = SG/'dev.p2.out'\n",
    "SG_out_3 = SG/'dev.p3.out'\n",
    "\n",
    "PARA_FOLDER = DATA_FOLDER/'parameter'\n",
    "AL_para_FOLDER = PARA_FOLDER/'AL'\n",
    "EN_para_FOLDER = PARA_FOLDER/'EN'\n",
    "\n",
    "EVAL_script = './EvalScript/evalResult.py'"
   ]
  },
  {
   "cell_type": "code",
   "execution_count": 4,
   "metadata": {},
   "outputs": [
    {
     "name": "stdout",
     "output_type": "stream",
     "text": [
      " ******** SP *********\n",
      "* Number of labels: 21\n",
      "* Number of features: 801120\n",
      "* Initialized weight of size: 801120\n",
      " ******** Start Training *********\n",
      "* Squared sigma: 10\n",
      "* Start Gradient Descend\n",
      "   ========================\n",
      "   iter(sit): Negative log-likelihood\n",
      "   ------------------------\n",
      "   Iteration: 0, Negative Log-likelihood: -0.0\n",
      "   Iteration: 1, Negative Log-likelihood: 8021616.55\n",
      "   Iteration: 2, Negative Log-likelihood: 1695553.3713108923\n",
      "   Iteration: 3, Negative Log-likelihood: 280246.7473569624\n",
      "   Iteration: 4, Negative Log-likelihood: 458493.96621427033\n",
      "   Iteration: 5, Negative Log-likelihood: 212221.5087348179\n",
      "   Iteration: 6, Negative Log-likelihood: 204733.746371097\n",
      "   Iteration: 7, Negative Log-likelihood: 144506.77266386698\n",
      "   Iteration: 8, Negative Log-likelihood: 141086.6347840046\n",
      "   Iteration: 9, Negative Log-likelihood: 118078.45694097657\n",
      "   Iteration: 10, Negative Log-likelihood: 108236.7570168846\n",
      "   Iteration: 11, Negative Log-likelihood: 96730.2765246267\n",
      "   Iteration: 12, Negative Log-likelihood: 89602.11118785565\n",
      "   Iteration: 13, Negative Log-likelihood: 83927.10712654018\n",
      "   Iteration: 14, Negative Log-likelihood: 79068.11244089795\n",
      "   Iteration: 15, Negative Log-likelihood: 74900.93956908103\n",
      "   Iteration: 16, Negative Log-likelihood: 70995.15321706317\n",
      "   Iteration: 17, Negative Log-likelihood: 67347.26584531067\n",
      "   Iteration: 18, Negative Log-likelihood: 64006.56526933432\n",
      "   Iteration: 19, Negative Log-likelihood: 61401.66786022362\n",
      "   Iteration: 20, Negative Log-likelihood: 58527.83105116691\n",
      "   Iteration: 21, Negative Log-likelihood: 56021.737535479435\n",
      "   Iteration: 22, Negative Log-likelihood: 53737.29014376587\n",
      "   Iteration: 23, Negative Log-likelihood: 51801.0917145915\n",
      "   Iteration: 24, Negative Log-likelihood: 49772.88548264665\n",
      "   Iteration: 25, Negative Log-likelihood: 48033.62967644008\n",
      "   Iteration: 26, Negative Log-likelihood: 46393.10228000874\n",
      "   Iteration: 27, Negative Log-likelihood: 44930.39353390147\n",
      "   Iteration: 28, Negative Log-likelihood: 43215.573229966\n",
      "   Iteration: 29, Negative Log-likelihood: 41704.75767130613\n",
      "   ========================\n",
      "   (iter: iteration, sit: sub iteration)\n",
      "* Likelihood: 41704.75767130613\n",
      " ******** Finished Training *********\n",
      "* Trained CRF Model has been saved at \"/home/pengfei/sutd-machine-learning-project/dataset/parameter/EN/SP_1\"\n",
      "* Elapsed time: 185.0 mins\n"
     ]
    }
   ],
   "source": [
    "EN_para_SP_1=EN_para_FOLDER/'SP_1'\n",
    "datafile = EN_train\n",
    "modelfile = EN_para_SP_1\n",
    "regularization = 10\n",
    "epoch = 30\n",
    "sp = DM.get_SP(datafile, modelfile, regularization)\n",
    "sp.load_data()\n",
    "sp.train(epoch)"
   ]
  },
  {
   "cell_type": "code",
   "execution_count": 3,
   "metadata": {},
   "outputs": [
    {
     "name": "stdout",
     "output_type": "stream",
     "text": [
      " ******** SP *********\n",
      "CRF model loaded\n",
      "* Test output has been saved at \"/home/pengfei/sutd-machine-learning-project/dataset/EN/dev.sp1.out\"\n",
      "\n",
      "#Entity in gold data: 13179\n",
      "#Entity in prediction: 15266\n",
      "\n",
      "#Correct Entity : 10829\n",
      "Entity  precision: 0.7094\n",
      "Entity  recall: 0.8217\n",
      "Entity  F: 0.7614\n",
      "\n",
      "#Correct Sentiment : 9294\n",
      "Sentiment  precision: 0.6088\n",
      "Sentiment  recall: 0.7052\n",
      "Sentiment  F: 0.6535\n"
     ]
    }
   ],
   "source": [
    "sp = DM.get_SP(datafile, modelfile, regularization)\n",
    "sp.load_model(modelfile)\n",
    "sp.test(EN_dev_y, EN_sp_1)\n",
    "! python3 {EVAL_script} {EN_dev_y} {EN_sp_1}"
   ]
  },
  {
   "cell_type": "markdown",
   "metadata": {},
   "source": [
    "## Continuation (30)"
   ]
  },
  {
   "cell_type": "code",
   "execution_count": 3,
   "metadata": {},
   "outputs": [
    {
     "name": "stdout",
     "output_type": "stream",
     "text": [
      " ******** SP *********\n",
      "* Number of labels: 21\n",
      "* Number of features: 801120\n",
      "* Initialized weight of size: 801120\n",
      "CRF model loaded\n",
      " ******** Start Training *********\n",
      "* Squared sigma: 10\n",
      "* Start Gradient Descend\n",
      "   ========================\n",
      "   iter(sit): Negative log-likelihood\n",
      "   ------------------------\n",
      "   Iteration: 0, Negative Log-likelihood: 40419.855362532944\n",
      "   Iteration: 1, Negative Log-likelihood: 38772.15995654093\n",
      "   Iteration: 2, Negative Log-likelihood: 38195.39765720787\n",
      "   Iteration: 3, Negative Log-likelihood: 37841.506514481276\n",
      "   Iteration: 4, Negative Log-likelihood: 37441.719576583\n",
      "   Iteration: 5, Negative Log-likelihood: 37164.83681306671\n",
      "   Iteration: 6, Negative Log-likelihood: 36887.85931361478\n",
      "   Iteration: 7, Negative Log-likelihood: 36641.212635879376\n",
      "   Iteration: 8, Negative Log-likelihood: 36364.16103034781\n",
      "   Iteration: 9, Negative Log-likelihood: 36247.260550620544\n",
      "   Iteration: 10, Negative Log-likelihood: 35923.27239536987\n",
      "   Iteration: 11, Negative Log-likelihood: 35824.92033409989\n",
      "   Iteration: 12, Negative Log-likelihood: 35569.74681932188\n",
      "   Iteration: 13, Negative Log-likelihood: 35440.11247220685\n",
      "   Iteration: 14, Negative Log-likelihood: 35228.12346557492\n",
      "   Iteration: 15, Negative Log-likelihood: 35117.29260072293\n",
      "   Iteration: 16, Negative Log-likelihood: 34897.9357905495\n",
      "   Iteration: 17, Negative Log-likelihood: 34800.50014565535\n",
      "   Iteration: 18, Negative Log-likelihood: 34578.37977821499\n",
      "   Iteration: 19, Negative Log-likelihood: 34557.641125077884\n",
      "   Iteration: 20, Negative Log-likelihood: 34233.96101972142\n",
      "   Iteration: 21, Negative Log-likelihood: 34283.56592588672\n",
      "   Iteration: 22, Negative Log-likelihood: 33985.211083588714\n",
      "   Iteration: 23, Negative Log-likelihood: 34055.60890655212\n",
      "   Iteration: 24, Negative Log-likelihood: 33713.2570486637\n",
      "   Iteration: 25, Negative Log-likelihood: 33733.19361876759\n",
      "   Iteration: 26, Negative Log-likelihood: 33552.99176791568\n",
      "   Iteration: 27, Negative Log-likelihood: 33543.359892671295\n",
      "   Iteration: 28, Negative Log-likelihood: 33250.79056299777\n",
      "   Iteration: 29, Negative Log-likelihood: 33307.19789547632\n",
      "   ========================\n",
      "   (iter: iteration, sit: sub iteration)\n",
      "* Likelihood: 33307.19789547632\n",
      " ******** Finished Training *********\n",
      "* Trained CRF Model has been saved at \"/home/pengfei/sutd-machine-learning-project/dataset/parameter/EN/SP_1\"\n",
      "* Elapsed time: 192.0 mins\n"
     ]
    }
   ],
   "source": [
    "EN_para_SP_1=EN_para_FOLDER/'SP_1'\n",
    "datafile = EN_train\n",
    "modelfile = EN_para_SP_1\n",
    "regularization = 10\n",
    "epoch = 30\n",
    "########################\n",
    "sp = DM.get_SP(datafile, modelfile, regularization)\n",
    "sp.load_data()\n",
    "sp.load_model(modelfile)\n",
    "sp.train(epoch,lr=0.1)"
   ]
  },
  {
   "cell_type": "code",
   "execution_count": 4,
   "metadata": {},
   "outputs": [
    {
     "name": "stdout",
     "output_type": "stream",
     "text": [
      " ******** SP *********\n",
      "CRF model loaded\n"
     ]
    },
    {
     "ename": "NameError",
     "evalue": "name 'EN_sp_2' is not defined",
     "output_type": "error",
     "traceback": [
      "\u001b[0;31m---------------------------------------------------------------------------\u001b[0m",
      "\u001b[0;31mNameError\u001b[0m                                 Traceback (most recent call last)",
      "\u001b[0;32m<ipython-input-4-6ac8658dbbeb>\u001b[0m in \u001b[0;36m<module>\u001b[0;34m\u001b[0m\n\u001b[1;32m      1\u001b[0m \u001b[0msp\u001b[0m \u001b[0;34m=\u001b[0m \u001b[0mDM\u001b[0m\u001b[0;34m.\u001b[0m\u001b[0mget_SP\u001b[0m\u001b[0;34m(\u001b[0m\u001b[0mdatafile\u001b[0m\u001b[0;34m,\u001b[0m \u001b[0mmodelfile\u001b[0m\u001b[0;34m,\u001b[0m \u001b[0mregularization\u001b[0m\u001b[0;34m)\u001b[0m\u001b[0;34m\u001b[0m\u001b[0;34m\u001b[0m\u001b[0m\n\u001b[1;32m      2\u001b[0m \u001b[0msp\u001b[0m\u001b[0;34m.\u001b[0m\u001b[0mload_model\u001b[0m\u001b[0;34m(\u001b[0m\u001b[0mmodelfile\u001b[0m\u001b[0;34m)\u001b[0m\u001b[0;34m\u001b[0m\u001b[0;34m\u001b[0m\u001b[0m\n\u001b[0;32m----> 3\u001b[0;31m \u001b[0msp\u001b[0m\u001b[0;34m.\u001b[0m\u001b[0mtest\u001b[0m\u001b[0;34m(\u001b[0m\u001b[0mEN_dev_y\u001b[0m\u001b[0;34m,\u001b[0m \u001b[0mEN_sp_2\u001b[0m\u001b[0;34m)\u001b[0m\u001b[0;34m\u001b[0m\u001b[0;34m\u001b[0m\u001b[0m\n\u001b[0m\u001b[1;32m      4\u001b[0m \u001b[0mget_ipython\u001b[0m\u001b[0;34m(\u001b[0m\u001b[0;34m)\u001b[0m\u001b[0;34m.\u001b[0m\u001b[0msystem\u001b[0m\u001b[0;34m(\u001b[0m\u001b[0;34m' python3 {EVAL_script} {EN_dev_y} {EN_sp_2}'\u001b[0m\u001b[0;34m)\u001b[0m\u001b[0;34m\u001b[0m\u001b[0;34m\u001b[0m\u001b[0m\n",
      "\u001b[0;31mNameError\u001b[0m: name 'EN_sp_2' is not defined"
     ]
    }
   ],
   "source": [
    "sp = DM.get_SP(datafile, modelfile, regularization)\n",
    "sp.load_model(modelfile)\n",
    "sp.test(EN_dev_y, EN_sp_2)\n",
    "! python3 {EVAL_script} {EN_dev_y} {EN_sp_2}"
   ]
  },
  {
   "cell_type": "code",
   "execution_count": null,
   "metadata": {},
   "outputs": [],
   "source": []
  }
 ],
 "metadata": {
  "kernelspec": {
   "display_name": "Python 3",
   "language": "python",
   "name": "python3"
  },
  "language_info": {
   "codemirror_mode": {
    "name": "ipython",
    "version": 3
   },
   "file_extension": ".py",
   "mimetype": "text/x-python",
   "name": "python",
   "nbconvert_exporter": "python",
   "pygments_lexer": "ipython3",
   "version": "3.7.3"
  }
 },
 "nbformat": 4,
 "nbformat_minor": 2
}
